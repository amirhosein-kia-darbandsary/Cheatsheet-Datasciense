{
  "nbformat": 4,
  "nbformat_minor": 0,
  "metadata": {
    "colab": {
      "name": "Untitled1.ipynb",
      "provenance": [],
      "collapsed_sections": [],
      "mount_file_id": "1OMxX47zeYDTvJ8XWqR4hYgZgR7v4ulFZ",
      "authorship_tag": "ABX9TyNvF+UcSOe/kWbtixzYYZJS",
      "include_colab_link": true
    },
    "kernelspec": {
      "name": "python3",
      "display_name": "Python 3"
    },
    "language_info": {
      "name": "python"
    },
    "gpuClass": "standard",
    "accelerator": "GPU"
  },
  "cells": [
    {
      "cell_type": "markdown",
      "metadata": {
        "id": "view-in-github",
        "colab_type": "text"
      },
      "source": [
        "<a href=\"https://colab.research.google.com/github/amirhosein-kia-darbandsary/Cheatsheet-Datasciense/blob/master/Untitled1.ipynb\" target=\"_parent\"><img src=\"https://colab.research.google.com/assets/colab-badge.svg\" alt=\"Open In Colab\"/></a>"
      ]
    },
    {
      "cell_type": "code",
      "execution_count": null,
      "metadata": {
        "id": "VYDfzIDic-if"
      },
      "outputs": [],
      "source": [
        "\n",
        "# !pip install opendatasets \n",
        "# import opendatasets as od "
      ]
    },
    {
      "cell_type": "code",
      "source": [
        "#     \"https://www.kaggle.com/datasets/diyer22/retail-product-checkout-dataset/download\"\n",
        "\n",
        "# od.download(\n",
        "# )"
      ],
      "metadata": {
        "id": "hAmdQhbNdP70"
      },
      "execution_count": null,
      "outputs": []
    },
    {
      "cell_type": "code",
      "source": [
        "!nvidia-smi"
      ],
      "metadata": {
        "colab": {
          "base_uri": "https://localhost:8080/"
        },
        "id": "yo-PzUAW1eTR",
        "outputId": "b60300f6-d3a7-4d9d-bd5e-845ab8fd63b7"
      },
      "execution_count": 1,
      "outputs": [
        {
          "output_type": "stream",
          "name": "stdout",
          "text": [
            "Mon Jul 11 08:44:46 2022       \n",
            "+-----------------------------------------------------------------------------+\n",
            "| NVIDIA-SMI 460.32.03    Driver Version: 460.32.03    CUDA Version: 11.2     |\n",
            "|-------------------------------+----------------------+----------------------+\n",
            "| GPU  Name        Persistence-M| Bus-Id        Disp.A | Volatile Uncorr. ECC |\n",
            "| Fan  Temp  Perf  Pwr:Usage/Cap|         Memory-Usage | GPU-Util  Compute M. |\n",
            "|                               |                      |               MIG M. |\n",
            "|===============================+======================+======================|\n",
            "|   0  Tesla T4            Off  | 00000000:00:04.0 Off |                    0 |\n",
            "| N/A   45C    P8     9W /  70W |      0MiB / 15109MiB |      0%      Default |\n",
            "|                               |                      |                  N/A |\n",
            "+-------------------------------+----------------------+----------------------+\n",
            "                                                                               \n",
            "+-----------------------------------------------------------------------------+\n",
            "| Processes:                                                                  |\n",
            "|  GPU   GI   CI        PID   Type   Process name                  GPU Memory |\n",
            "|        ID   ID                                                   Usage      |\n",
            "|=============================================================================|\n",
            "|  No running processes found                                                 |\n",
            "+-----------------------------------------------------------------------------+\n"
          ]
        }
      ]
    },
    {
      "cell_type": "markdown",
      "source": [
        "## clone *darknet* and install it "
      ],
      "metadata": {
        "id": "sFvE9KfE8fa3"
      }
    },
    {
      "cell_type": "code",
      "source": [
        "!git clone https://github.com/AlexeyAB/darknet"
      ],
      "metadata": {
        "id": "36kVjKKA3kj_",
        "colab": {
          "base_uri": "https://localhost:8080/"
        },
        "outputId": "f9afac2f-771c-46e1-9fc0-baf189bf333b"
      },
      "execution_count": 3,
      "outputs": [
        {
          "output_type": "stream",
          "name": "stdout",
          "text": [
            "Cloning into 'darknet'...\n",
            "remote: Enumerating objects: 15457, done.\u001b[K\n",
            "remote: Counting objects: 100% (33/33), done.\u001b[K\n",
            "remote: Compressing objects: 100% (29/29), done.\u001b[K\n",
            "remote: Total 15457 (delta 3), reused 24 (delta 2), pack-reused 15424\u001b[K\n",
            "Receiving objects: 100% (15457/15457), 14.11 MiB | 17.99 MiB/s, done.\n",
            "Resolving deltas: 100% (10368/10368), done.\n"
          ]
        }
      ]
    },
    {
      "cell_type": "markdown",
      "source": [
        "## confige our **makeFile** in darknet "
      ],
      "metadata": {
        "id": "7ucKQL738wWe"
      }
    },
    {
      "cell_type": "code",
      "source": [
        "!sed -i 's/OPENCV=0/OPENCV=1' Makefile\n",
        "!sed -i 's/GPU=0/GPU=1' Makefile\n",
        "!sed -i 's/CUDNN=0/CUDNN=1' Makefile"
      ],
      "metadata": {
        "colab": {
          "base_uri": "https://localhost:8080/"
        },
        "id": "yIQ1we8w8dKk",
        "outputId": "face0a89-98b0-48da-a9d5-1502160279dc"
      },
      "execution_count": null,
      "outputs": [
        {
          "output_type": "stream",
          "name": "stdout",
          "text": [
            "sed: -e expression #1, char 19: unterminated `s' command\n",
            "sed: -e expression #1, char 13: unterminated `s' command\n",
            "sed: -e expression #1, char 17: unterminated `s' command\n"
          ]
        }
      ]
    },
    {
      "cell_type": "markdown",
      "source": [
        "## compile our $darknet$"
      ],
      "metadata": {
        "id": "bE-apCEe-uVu"
      }
    },
    {
      "cell_type": "code",
      "source": [
        "%cd darknet\n",
        "!make"
      ],
      "metadata": {
        "id": "M_V-xl_l-F4H"
      },
      "execution_count": null,
      "outputs": []
    },
    {
      "cell_type": "markdown",
      "source": [
        "## Confige yolo  "
      ],
      "metadata": {
        "id": "MPnWLTkd_dRC"
      }
    },
    {
      "cell_type": "code",
      "source": [
        "%cp './cfg/yolov3.cfg' './cfg/yolov3_train.cfg'"
      ],
      "metadata": {
        "id": "u_GL8ddE-drU"
      },
      "execution_count": 18,
      "outputs": []
    },
    {
      "cell_type": "code",
      "source": [
        "%cat './cfg/yolov3_train.cfg'"
      ],
      "metadata": {
        "id": "7CEbKCFTbt_L"
      },
      "execution_count": null,
      "outputs": []
    },
    {
      "cell_type": "code",
      "source": [
        "!echo   'product' > data/obj.names"
      ],
      "metadata": {
        "id": "-5pWLj6vjh1u"
      },
      "execution_count": 23,
      "outputs": []
    },
    {
      "cell_type": "code",
      "source": [
        ""
      ],
      "metadata": {
        "id": "rTLlYFeuw3pq"
      },
      "execution_count": null,
      "outputs": []
    }
  ]
}