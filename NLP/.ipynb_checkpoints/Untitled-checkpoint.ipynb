{
 "cells": [
  {
   "cell_type": "code",
   "execution_count": null,
   "id": "177c9d8d",
   "metadata": {},
   "outputs": [],
   "source": [
    "import numpy as np \n",
    "import pandas as pd \n",
    "import nltk as nk\n",
    "import hazm"
   ]
  },
  {
   "cell_type": "code",
   "execution_count": null,
   "id": "bc85b8d1",
   "metadata": {},
   "outputs": [],
   "source": [
    "dataNlp = pd.read_csv('../DataSets(TextMining)/per.csv')\n"
   ]
  },
  {
   "cell_type": "code",
   "execution_count": null,
   "id": "e954c5c7",
   "metadata": {},
   "outputs": [],
   "source": [
    "with open('../DataSets(TextMining)/stopwords.txt') as stopwords:\n",
    "    stopwords = stopwords.readlines()"
   ]
  },
  {
   "cell_type": "code",
   "execution_count": null,
   "id": "afecfd0d",
   "metadata": {},
   "outputs": [],
   "source": [
    "stopwords = [line.replace('\\n' , \"\") for line in stopwords]"
   ]
  },
  {
   "cell_type": "code",
   "execution_count": null,
   "id": "c6e72e06",
   "metadata": {},
   "outputs": [],
   "source": [
    "stopwordsEN = nk.corpus.stopwords.words('english')\n",
    "stopwordsEN.extend(stopwords)"
   ]
  },
  {
   "cell_type": "code",
   "execution_count": null,
   "id": "84be5666",
   "metadata": {},
   "outputs": [],
   "source": [
    "wordsSet = pd.DataFrame(columns=('words_body' , 'category'))\n",
    "for index , row in dataNlp.iterrows():\n",
    "    body_title = row['Title'] + \" \" + row['Body']\n",
    "    body_title_tokenized = hazm.word_tokenize(body_title)\n",
    "    body_title_tokenized_fillterd = [ w for w in body_title_tokenized if w  not in stopwordsEN]\n",
    "    body_title_tokenized_fillterd_stem = [stemmer.stem(w) for w in body_title_tokenized_fillterd]\n",
    "    wordsSet.loc[index] = {\n",
    "        'words_body':' '.join(body_title_tokenized_fillterd_stem),\n",
    "        'category':row['Category2'].replace('\\n' , '')\n",
    "    }\n",
    "    "
   ]
  },
  {
   "cell_type": "code",
   "execution_count": null,
   "id": "067f2861",
   "metadata": {},
   "outputs": [],
   "source": []
  }
 ],
 "metadata": {
  "kernelspec": {
   "display_name": "Python 3",
   "language": "python",
   "name": "python3"
  },
  "language_info": {
   "codemirror_mode": {
    "name": "ipython",
    "version": 3
   },
   "file_extension": ".py",
   "mimetype": "text/x-python",
   "name": "python",
   "nbconvert_exporter": "python",
   "pygments_lexer": "ipython3",
   "version": "3.8.8"
  }
 },
 "nbformat": 4,
 "nbformat_minor": 5
}
