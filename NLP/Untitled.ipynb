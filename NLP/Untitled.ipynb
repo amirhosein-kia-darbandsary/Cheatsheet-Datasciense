{
 "cells": [
  {
   "cell_type": "code",
   "execution_count": 1,
   "id": "e78f427e",
   "metadata": {},
   "outputs": [],
   "source": [
    "import numpy as np \n",
    "import pandas as pd \n",
    "import nltk as nk\n",
    "import hazm"
   ]
  },
  {
   "cell_type": "code",
   "execution_count": 2,
   "id": "799bff2c",
   "metadata": {},
   "outputs": [],
   "source": [
    "dataNlp = pd.read_csv('../DataSets(TextMining)/per.csv')\n"
   ]
  },
  {
   "cell_type": "code",
   "execution_count": 3,
   "id": "99d83fde",
   "metadata": {},
   "outputs": [],
   "source": [
    "with open('../DataSets(TextMining)/stopwords.txt') as stopwords:\n",
    "    stopwords = stopwords.readlines()"
   ]
  },
  {
   "cell_type": "code",
   "execution_count": 4,
   "id": "a13c05e5",
   "metadata": {},
   "outputs": [],
   "source": [
    "stopwords = [line.replace('\\n' , \"\") for line in stopwords]"
   ]
  },
  {
   "cell_type": "code",
   "execution_count": 8,
   "id": "86e740d8",
   "metadata": {},
   "outputs": [],
   "source": [
    "stopwordsEN = nk.corpus.stopwords.words('english')\n",
    "stopwordsEN.extend(stopwords)\n",
    "stemmer  = hazm.Stemmer()"
   ]
  },
  {
   "cell_type": "code",
   "execution_count": 9,
   "id": "10a4b9bb",
   "metadata": {},
   "outputs": [],
   "source": [
    "wordsSet = pd.DataFrame(columns=('words_body' , 'category'))\n",
    "for index , row in dataNlp.iterrows():\n",
    "    body_title = row['Title'] + \" \" + row['Body']\n",
    "    body_title_tokenized = hazm.word_tokenize(body_title)\n",
    "    body_title_tokenized_fillterd = [ w for w in body_title_tokenized if w  not in stopwordsEN]\n",
    "    body_title_tokenized_fillterd_stem = [stemmer.stem(w) for w in body_title_tokenized_fillterd]\n",
    "    wordsSet.loc[index] = {\n",
    "        'words_body':' '.join(body_title_tokenized_fillterd_stem),\n",
    "        'category':row['Category2'].replace('\\n' , '')\n",
    "    }\n",
    "    "
   ]
  },
  {
   "cell_type": "code",
   "execution_count": 14,
   "id": "1aa08722",
   "metadata": {},
   "outputs": [
    {
     "data": {
      "text/html": [
       "<div>\n",
       "<style scoped>\n",
       "    .dataframe tbody tr th:only-of-type {\n",
       "        vertical-align: middle;\n",
       "    }\n",
       "\n",
       "    .dataframe tbody tr th {\n",
       "        vertical-align: top;\n",
       "    }\n",
       "\n",
       "    .dataframe thead th {\n",
       "        text-align: right;\n",
       "    }\n",
       "</style>\n",
       "<table border=\"1\" class=\"dataframe\">\n",
       "  <thead>\n",
       "    <tr style=\"text-align: right;\">\n",
       "      <th></th>\n",
       "      <th>words_body</th>\n",
       "      <th>category</th>\n",
       "    </tr>\n",
       "  </thead>\n",
       "  <tbody>\n",
       "    <tr>\n",
       "      <th>0</th>\n",
       "      <td>وزير علو درجمع استاد نمونه سن بازنشستگي استاد ...</td>\n",
       "      <td>آموزشي</td>\n",
       "    </tr>\n",
       "    <tr>\n",
       "      <th>1</th>\n",
       "      <td>گردهمايي دانش‌آموختگ موسسه آموز عالي سوره برگز...</td>\n",
       "      <td>آموزشي</td>\n",
       "    </tr>\n",
       "    <tr>\n",
       "      <th>2</th>\n",
       "      <td>نتايج آزمون دوره‌هاي فراگير دانشگاه پيام‌نور ن...</td>\n",
       "      <td>آموزشي</td>\n",
       "    </tr>\n",
       "    <tr>\n",
       "      <th>3</th>\n",
       "      <td>هماي يكروزه آسيب شناسي مفهو روابط عمومي بابلسر...</td>\n",
       "      <td>اجتماعي</td>\n",
       "    </tr>\n",
       "    <tr>\n",
       "      <th>4</th>\n",
       "      <td>وضعي اقتصادي ميز تحصيل والدين مهمترين عوامل مو...</td>\n",
       "      <td>آموزشي</td>\n",
       "    </tr>\n",
       "  </tbody>\n",
       "</table>\n",
       "</div>"
      ],
      "text/plain": [
       "                                          words_body category\n",
       "0  وزير علو درجمع استاد نمونه سن بازنشستگي استاد ...   آموزشي\n",
       "1  گردهمايي دانش‌آموختگ موسسه آموز عالي سوره برگز...   آموزشي\n",
       "2  نتايج آزمون دوره‌هاي فراگير دانشگاه پيام‌نور ن...   آموزشي\n",
       "3  هماي يكروزه آسيب شناسي مفهو روابط عمومي بابلسر...  اجتماعي\n",
       "4  وضعي اقتصادي ميز تحصيل والدين مهمترين عوامل مو...   آموزشي"
      ]
     },
     "execution_count": 14,
     "metadata": {},
     "output_type": "execute_result"
    }
   ],
   "source": [
    "wordsSet.head()"
   ]
  },
  {
   "cell_type": "code",
   "execution_count": 34,
   "id": "76aa0eab",
   "metadata": {},
   "outputs": [],
   "source": [
    "from sklearn.feature_extraction.text import TfidfVectorizer\n",
    "vectorize = TfidfVectorizer()\n",
    "T = vectorize.fit_transform(wordsSet['words_body'])"
   ]
  },
  {
   "cell_type": "code",
   "execution_count": 35,
   "id": "e0bc1f15",
   "metadata": {},
   "outputs": [],
   "source": [
    "from sklearn.preprocessing import LabelEncoder "
   ]
  },
  {
   "cell_type": "code",
   "execution_count": 36,
   "id": "f2375e49",
   "metadata": {},
   "outputs": [],
   "source": [
    "la = LabelEncoder()\n",
    "D  = la.fit_transform(wordsSet['category'])"
   ]
  },
  {
   "cell_type": "code",
   "execution_count": 40,
   "id": "9a12b263",
   "metadata": {},
   "outputs": [],
   "source": [
    "from sklearn.model_selection import train_test_split as tra\n",
    "X_train , X_test , Y_train , Y_test = tra( T , D )"
   ]
  },
  {
   "cell_type": "code",
   "execution_count": 41,
   "id": "335ad90f",
   "metadata": {},
   "outputs": [
    {
     "data": {
      "text/plain": [
       "SVC()"
      ]
     },
     "execution_count": 41,
     "metadata": {},
     "output_type": "execute_result"
    }
   ],
   "source": [
    "from sklearn.svm import SVC\n",
    "svc = SVC()\n",
    "svc.fit(X_train , Y_train )"
   ]
  },
  {
   "cell_type": "code",
   "execution_count": 48,
   "id": "9e7fd4b4",
   "metadata": {},
   "outputs": [],
   "source": [
    "Expected = Y_test\n",
    "predicted = svc.predict(X_test)\n",
    "# svc.score(X_test , Y_test)"
   ]
  },
  {
   "cell_type": "code",
   "execution_count": 52,
   "id": "e674520f",
   "metadata": {},
   "outputs": [
    {
     "name": "stdout",
     "output_type": "stream",
     "text": [
      "              precision    recall  f1-score   support\n",
      "\n",
      "           0       0.83      0.92      0.87       238\n",
      "           1       0.70      0.65      0.67       266\n",
      "           2       0.82      0.82      0.82       261\n",
      "           3       0.85      0.96      0.90       245\n",
      "           4       0.90      0.92      0.91       238\n",
      "           5       0.77      0.69      0.73       216\n",
      "           6       0.88      0.76      0.81       279\n",
      "           7       0.80      0.87      0.84       239\n",
      "           8       0.88      0.89      0.89       251\n",
      "           9       0.95      0.94      0.94       258\n",
      "          10       0.95      0.93      0.94       259\n",
      "\n",
      "    accuracy                           0.85      2750\n",
      "   macro avg       0.85      0.85      0.85      2750\n",
      "weighted avg       0.85      0.85      0.85      2750\n",
      "\n"
     ]
    }
   ],
   "source": [
    "from sklearn.metrics import classification_report as classReport\n",
    "print(classReport(Expected , predicted))"
   ]
  },
  {
   "cell_type": "code",
   "execution_count": null,
   "id": "8ee63f78",
   "metadata": {},
   "outputs": [],
   "source": []
  },
  {
   "cell_type": "code",
   "execution_count": null,
   "id": "1a98cd36",
   "metadata": {},
   "outputs": [],
   "source": []
  }
 ],
 "metadata": {
  "kernelspec": {
   "display_name": "Python 3",
   "language": "python",
   "name": "python3"
  },
  "language_info": {
   "codemirror_mode": {
    "name": "ipython",
    "version": 3
   },
   "file_extension": ".py",
   "mimetype": "text/x-python",
   "name": "python",
   "nbconvert_exporter": "python",
   "pygments_lexer": "ipython3",
   "version": "3.8.8"
  }
 },
 "nbformat": 4,
 "nbformat_minor": 5
}
