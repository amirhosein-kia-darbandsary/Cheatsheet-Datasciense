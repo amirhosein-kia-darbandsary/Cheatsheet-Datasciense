{
 "cells": [
  {
   "cell_type": "code",
   "execution_count": 28,
   "metadata": {},
   "outputs": [],
   "source": [
    "from scipy import stats\n",
    "import matplotlib.pyplot as plt\n",
    "import seaborn as sns"
   ]
  },
  {
   "cell_type": "code",
   "execution_count": 7,
   "metadata": {},
   "outputs": [],
   "source": [
    "data_normal = stats.norm.rvs(size=100000, loc=0, scale=1)"
   ]
  },
  {
   "cell_type": "code",
   "execution_count": 8,
   "metadata": {},
   "outputs": [
    {
     "data": {
      "text/plain": [
       "<matplotlib.axes._subplots.AxesSubplot at 0x7f49973bedd0>"
      ]
     },
     "execution_count": 8,
     "metadata": {},
     "output_type": "execute_result"
    },
    {
     "data": {
      "image/png": "[encoded data removed]",
      "text/plain": [
       "<Figure size 432x288 with 1 Axes>"
      ]
     },
     "metadata": {
      "needs_background": "light"
     },
     "output_type": "display_data"
    }
   ],
   "source": [
    "sns.distplot(data_normal, bins=100, kde=False)"
   ]
  },
  {
   "cell_type": "code",
   "execution_count": 13,
   "metadata": {},
   "outputs": [],
   "source": [
    "data_uniform = stats.uniform.rvs(size=100000, loc=0, scale=10)"
   ]
  },
  {
   "cell_type": "code",
   "execution_count": 14,
   "metadata": {},
   "outputs": [
    {
     "data": {
      "text/plain": [
       "<matplotlib.axes._subplots.AxesSubplot at 0x7f499543b410>"
      ]
     },
     "execution_count": 14,
     "metadata": {},
     "output_type": "execute_result"
    },
    {
     "data": {
      "image/png": "[encoded data removed]",
      "text/plain": [
       "<Figure size 432x288 with 1 Axes>"
      ]
     },
     "metadata": {
      "needs_background": "light"
     },
     "output_type": "display_data"
    }
   ],
   "source": [
    "sns.distplot(data_uniform, bins=100, kde=False)"
   ]
  },
  {
   "cell_type": "code",
   "execution_count": 18,
   "metadata": {},
   "outputs": [
    {
     "name": "stdout",
     "output_type": "stream",
     "text": [
      "[0 0 0 0 0 0 0 0 1 1 0 0 1 0 0 1 0 0 0 0 0 0 0 0 0 0 0 0 0 0 1 0 0 0 0 0 0\n",
      " 0 0 0 0 0 0 1 0 0 1 1 0 0 0 1 1 1 0 1 1 0 0 0 0 0 0 0 1 0 1 1 1 0 0 0 0 1\n",
      " 0 0 1 0 0 0 0 0 0 0 0 0 0 0 1 1 1 0 0 0 0 1 0 0 0 0 0 0 0 0 0 1 0 0 1 0 0\n",
      " 0 0 0 0 1 0 0 0 0 0 1 1 0 1 1 0 0 0 0 0 0 0 0 0 0 1 0 0 0 1 0 0 0 1 0 0 0\n",
      " 0 1 0 0 0 0 1 0 0 0 0 1 0 0 0 0 1 0 0 0 0 1 0 1 0 1 1 0 0 0 0 0 0 1 0 0 0\n",
      " 0 0 1 0 0 0 0 0 0 0 0 1 1 0 0 0 0 0 0 0 0 0 0 0 0 0 0 0 0 1 1 1 0 0 0 0 1\n",
      " 0 0 0 0 1 0 1 0 0 1 0 0 0 0 0 0 0 0 0 0 0 0 0 0 0 0 0 1 1 1 0 0 0 0 0 0 0\n",
      " 0 0 0 0 0 0 0 0 0 0 0 0 0 0 0 0 1 0 1 0 0 0 0 0 0 0 0 0 1 0 0 1 0 0 1 0 0\n",
      " 1 0 0 0 1 0 1 0 0 0 0 0 0 0 0 0 1 0 1 0 0 0 0 1 0 0 0 0 0 1 0 0 0 0 0 0 0\n",
      " 0 0 1 0 0 1 0 0 0 0 0 0 0 0 1 1 1 0 1 0 0 0 0 0 0 0 0 1 0 0 0 0 0 1 0 0 0\n",
      " 1 0 0 0 1 0 1 0 0 0 0 0 1 0 0 0 0 0 0 1 0 0 0 0 0 0 0 1 0 0 0 0 0 1 1 0 0\n",
      " 0 0 0 0 0 0 0 0 0 0 0 0 0 0 0 0 0 0 0 1 1 0 0 0 1 0 1 0 0 0 0 1 0 1 0 1 0\n",
      " 0 0 0 1 0 0 0 0 1 0 0 0 1 0 1 0 1 0 0 0 0 0 1 1 0 1 0 0 0 1 0 0 0 0 0 0 0\n",
      " 1 1 1 0 0 0 0 0 0 0 0 0 0 0 1 1 1 0 0 0 0 0 0 1 0 0 0 0 0 0 0 1 0 0 0 0 0\n",
      " 0 1 0 0 0 0 0 0 0 0 1 1 0 1 0 1 0 0 0 0 1 0 0 0 0 0 0 0 0 0 1 0 0 0 0 0 0\n",
      " 1 0 0 0 1 0 0 0 0 0 0 0 0 0 0 0 0 1 1 1 0 0 0 0 0 1 0 0 1 0 0 0 0 0 0 0 0\n",
      " 0 0 0 0 0 0 0 0 0 0 0 0 1 0 0 0 0 1 0 1 0 0 0 0 0 0 0 0 0 0 1 0 1 1 0 0 0\n",
      " 0 1 0 0 0 1 0 0 0 0 0 0 0 1 0 0 1 0 1 0 0 0 1 0 0 0 0 0 0 0 0 1 0 1 0 0 0\n",
      " 1 0 1 0 1 0 0 1 1 0 1 1 1 0 0 1 1 0 0 0 0 0 0 1 0 0 0 0 0 1 0 0 1 0 0 0 0\n",
      " 0 0 0 0 0 0 1 1 0 0 0 0 1 0 0 0 1 0 0 0 0 0 0 0 0 1 0 0 1 1 0 0 0 1 1 1 0\n",
      " 1 0 0 1 0 1 0 0 0 0 0 0 0 0 0 0 0 1 1 0 1 0 1 0 0 1 0 0 1 0 1 0 0 0 0 1 1\n",
      " 0 0 0 0 0 0 0 1 0 1 0 1 0 0 0 1 0 1 0 0 0 0 0 0 0 0 0 0 1 0 0 0 1 1 0 0 0\n",
      " 0 0 0 0 0 0 0 0 0 0 1 0 0 0 0 1 0 0 0 0 0 0 0 0 0 0 0 0 0 0 0 0 0 0 0 0 0\n",
      " 0 0 0 1 0 0 1 0 0 0 0 0 1 0 0 1 0 0 0 0 1 0 0 1 0 0 1 0 0 0 0 1 0 0 0 0 0\n",
      " 0 0 0 0 0 0 0 0 1 0 0 0 0 0 1 1 0 0 0 1 0 0 0 0 1 0 0 0 1 0 1 0 0 0 0 0 0\n",
      " 1 0 0 0 1 0 1 0 0 1 0 0 0 0 0 0 0 1 1 0 0 0 0 0 0 1 0 1 0 1 1 0 0 0 1 1 0\n",
      " 0 0 0 0 0 0 0 0 1 0 0 0 0 0 0 0 1 1 0 0 0 0 0 0 1 1 0 0 0 0 0 0 1 1 1 0 1\n",
      " 0]\n"
     ]
    }
   ],
   "source": [
    "data_benouli = stats.bernoulli.rvs(size=1000, p=0.2)\n",
    "print(data_benouli)"
   ]
  },
  {
   "cell_type": "code",
   "execution_count": 19,
   "metadata": {},
   "outputs": [
    {
     "data": {
      "text/plain": [
       "<matplotlib.axes._subplots.AxesSubplot at 0x7f499533ce10>"
      ]
     },
     "execution_count": 19,
     "metadata": {},
     "output_type": "execute_result"
    },
    {
     "data": {
      "image/png": "[encoded data removed]",
      "text/plain": [
       "<Figure size 432x288 with 1 Axes>"
      ]
     },
     "metadata": {
      "needs_background": "light"
     },
     "output_type": "display_data"
    }
   ],
   "source": [
    "sns.distplot(data_benouli, bins=100, kde=False)"
   ]
  },
  {
   "cell_type": "code",
   "execution_count": 25,
   "metadata": {},
   "outputs": [
    {
     "name": "stdout",
     "output_type": "stream",
     "text": [
      "[19 17 19 26 19 16 23 15 21 26 21 21 20 17 17 22 19 17 11 22 23 17 18 23\n",
      " 21 25 29 30 17 22 16 27 17 21 22 20 17 17 25 24 22 14 23 18 15 16 20 19\n",
      " 16 14 22 26 23 21 16 26 24 26 23 12 18 12 17 15 21 27 24 12 19 23 20 18\n",
      " 20 15 25 22 21 23 24 26 21 17 18 22 20 25 18 25 20 24 17 24 25 23 24 16\n",
      " 22 16 18 18 18 21 24 21 30 22 28 24 18 25 18 21 18 21 27 19 22 19 19 18\n",
      " 19 18 18 17 21 21 20 21 26 18 22 22 19 13 20 19 21 16 19 25 18 20 21 25\n",
      " 18 17 29 24 19 17 23 21 17 23 18 17 21 21 24 15 16 19 18 18 32 32 19 28\n",
      " 19 17 19 13 22 20 17 21 17 18 20 18 18 19 21 17 12 19 19 25 25 16 19 20\n",
      " 14 22 24 18 21 22 18 21 20 26 18 25 25 18 19 20 18 18 22 19 20 17 27 21\n",
      " 24 22 24 21 22 20 19 13 21 24 15 21 19 15 21 14 22 26 19 25 21 22 24 19\n",
      " 16 24 21 21 23 18 21 16 23 21 22 25 27 24 16 23 19 20 18 14 26 30 24 17\n",
      " 16 15 23 15 22 20 15 27 18 16 21 21 11 27 19 21 21 16 25 16 18 14 18 24\n",
      " 26 16 14 17 24 20 21 13 18 14 22 25 23 17 17 23 24 22 18 19 20 16 20 25\n",
      " 21 20 23 15 22 20 36 19 18 19 17 17 24 17 12 18 24 18 17 20 23 21 28 18\n",
      " 11 20 19 18 25 16 28 10 25 15 18 15 28 19 19 19 21 19 23 22 30 23 15 14\n",
      " 25 21 21 16 16 22 24 15 11 22 16 11 23 16 12 13 21 16 28 21 18 16 20 23\n",
      " 14 16 17 23 20 17 27 22 18 18 22 25 25 23 24 20 20 20 20 15 15 19 17 21\n",
      " 27 23 17 16 32 20 18 18 23 19 19 21 20 21 17 19 27 18 15 25 19 21 18 19\n",
      " 21 26 17 17 18 23 15 19 14 18 17 24 17 22 20 18 16 22 17 26 20 20 22 22\n",
      " 21 17 23 22 28 22 22 24 21 17 19 16 15 17 21 25 19 14 20 17 19 27 23 28\n",
      " 22 21 16 19 15 27 19 20 18 23 22 26 23 21 19 26 20 14 20 20 28 22 25 23\n",
      " 26 16 14 13 23 22 27 24 25 25 18 22 18 18 23 14 20 17 19 13 21 17 21 21\n",
      " 21 13 15 20 22 19 20 20 19 19 19 19 27 20 19 18 19 22 16 18 21 21 21 20\n",
      " 21 18 19 22 23 17 22 17 21 15 21 22 24 18 17 16 14 20 20 26 18 23 22 25\n",
      " 17 18 25 14 16 29 19 22 20 14 17 21 14 25 20 12 15 15 20 21 17 20 20 16\n",
      " 19 19 15 22 24 21 18 21 16 16 18 21 21 24 23 17 30 16 24 30 25 21 13 19\n",
      " 24 21 21 14 19 15 16 21 18 22 25 18 14 24 21 28 19 18 19 23 20 14 21 26\n",
      " 19 19 21 23 20 21 23 19 24 19 24 18 18 15 27 18 19 23 20 17 21 19 20 23\n",
      " 21 22 16 18 22 18 13 24 20 24 25 13 17 21 25 23 15 18 24 20 16 27 20 13\n",
      " 14 28 19 17 23 14 18 16 24 16 19 27 20 21 24 25 21 26 16 15 22 20 25 16\n",
      " 16 18 14 16 22 24 14 21 18 14 22 22 18 21 15 24 23 13 15 17 17 20 19 19\n",
      " 15 13 22 19 15 20 27 12 19 20 23 17 22 18 18 20 24 17 16 15 25 10 20 22\n",
      " 16 14 22 21 25 16 20 13 20 18 21 20 22 25 20 20 17 17 24 17 17 24 15 19\n",
      " 18 20 17 26 15 25 22 27 18 17 20 26 19 18 22  9 21 17 24 16 11 17 21 19\n",
      " 16 20 17 20 20 23 23 18 22 14 19 22 24 20 15 24 17 21 19 16 25 21 18 18\n",
      " 20 20 21 22 19 24 15 17 19 22 22 14 16 20 16 27 17 18 15 18 23 20 21 16\n",
      " 19 25 22 18 19 23 18 12 23 20 16 22 18 21 19 19 19 24 25 12 15 16 19 17\n",
      " 24 17 15 24 24 17 24 17 22 22 25 25 18 17 20 19 15 20 21 15 14 24 26 22\n",
      " 19 14 23 16 19 20 24 21 27 31 19 22 29 18 28 19 27 25 30 20 14 16 20 19\n",
      " 22 24 23 29 16 20 21 23 21 18 24 28 29 16 18 18 19 26 23 19 17 32 24 23\n",
      " 19 19 21 19 17 20 24 16 15 17 16 24 15 21 12 20 11 23 17 16 20 25 19 20\n",
      " 22 23 16 22 13 19 19 18 17 14 24 15 24 17 18 18]\n"
     ]
    }
   ],
   "source": [
    "data_binom = stats.binom.rvs(size=1000, n=100, p=0.2)\n",
    "print(data_binom)"
   ]
  },
  {
   "cell_type": "code",
   "execution_count": 27,
   "metadata": {},
   "outputs": [
    {
     "data": {
      "text/plain": [
       "<matplotlib.axes._subplots.AxesSubplot at 0x7f4994b38f10>"
      ]
     },
     "execution_count": 27,
     "metadata": {},
     "output_type": "execute_result"
    },
    {
     "data": {
      "image/png": "[encoded data removed]",
      "text/plain": [
       "<Figure size 432x288 with 1 Axes>"
      ]
     },
     "metadata": {
      "needs_background": "light"
     },
     "output_type": "display_data"
    }
   ],
   "source": [
    "sns.distplot(data_binom, bins=50, kde=False)"
   ]
  },
  {
   "cell_type": "code",
   "execution_count": 1,
   "metadata": {},
   "outputs": [],
   "source": [
    "import numpy as np"
   ]
  },
  {
   "cell_type": "code",
   "execution_count": 22,
   "metadata": {},
   "outputs": [
    {
     "name": "stdout",
     "output_type": "stream",
     "text": [
      "[[3 0 1 1 0 1]\n",
      " [1 1 0 1 1 2]\n",
      " [0 1 3 1 0 1]\n",
      " ...\n",
      " [3 2 1 0 0 0]\n",
      " [0 1 1 3 1 0]\n",
      " [1 3 0 0 2 0]]\n"
     ]
    }
   ],
   "source": [
    "p = 1 / 6\n",
    "data_multinomial = np.random.multinomial(n=6, pvals=[p, p, p, p, p, p], size=1000)\n",
    "print(data_multinomial)"
   ]
  },
  {
   "cell_type": "code",
   "execution_count": 25,
   "metadata": {},
   "outputs": [
    {
     "name": "stdout",
     "output_type": "stream",
     "text": [
      "[[315 196 489]\n",
      " [328 226 446]\n",
      " [282 202 516]\n",
      " ...\n",
      " [278 214 508]\n",
      " [316 188 496]\n",
      " [308 197 495]]\n"
     ]
    }
   ],
   "source": [
    "icu = 0.3\n",
    "surgery = 0.2\n",
    "el = 0.5\n",
    "data_multinomial = np.random.multinomial(n=1000, pvals=[icu, surgery, el], size=365)\n",
    "print(data_multinomial)"
   ]
  },
  {
   "cell_type": "code",
   "execution_count": 31,
   "metadata": {},
   "outputs": [
    {
     "name": "stdout",
     "output_type": "stream",
     "text": [
      "[10 10  3  0  6  5 10  5 10  5  6  5  5  8  8  7  7  9  7  4  7  3  6  8\n",
      " 12  7  8  9  6  4  6  8  6  7  3  7  6  5  5  7  8  6  4  7  5  6  7 10\n",
      "  8  5  5 12  6  3 11 12  5 12  6 10  4  3 10  6  5  8  1  8  7  9  6 11\n",
      "  4  6  7  9  6  5  6  7  7  1  7  5  6  7  4  9  9  9  4  3  7  6 10  6\n",
      "  4  8  4  9  7  6 11  9 10  8  5 11  6  7  8  4  6  4 11  9  3  5  6  4\n",
      "  9  9  8  8 10  2  5  5  8  8  5  6  6  5  5 11  7  7  5  5  9  6  3  9\n",
      "  7  9  7  7  6  2  8  6  2  5  6  8  2 11 15  9  9  6  8  8 11  5  3  9\n",
      "  6  7  5  9  5  4  8  3  3 10  8  2 13  7 13  2  6  7  5  6  5  6  7  6\n",
      "  6  9 13  7 10  8  4 12  4  5  2  9  6  8  6  4  7  8  5 11  4  8  3 11\n",
      "  7  9  6  2  4  8 12  6  1  5  4 10  8 12  6  8 12 11 10  7 11  6  6 11\n",
      "  3  9  5  7  7  9  4  9  3  5  6  8  7 10  5 10  5  9  8  2  6  6 10 10\n",
      "  9 11  9  5  7  5  6  7  8  7  5  8  5  7  8  9  8  5 11  7  4  9  7  2\n",
      " 11  7 10 10  5 14  5  8  6  6  5  9  5  5 13  7  6  8 11  4  9  6  4  8\n",
      "  6  7  5  2  8 10  6  7  6  9  9  3  4  8  5  6  6  5  0  8  8  4  6  5\n",
      "  5  7  2  8  9  3  6  7 10  2  5  6  8 10 11  7  9  4  8 10  9  4  8  5\n",
      "  5  7  5  8  8  5  3  3  6  9  8  2  1 11  3  4 11  8  8  6  5  5  8  8\n",
      "  9  9  9  3  5  5  6  9  7  8  7  6  4  6  5  5  6  5  7  8  8 10  5  8\n",
      "  9  6  6  7  5 10  5 12  5  9  3  6  2  6  4  5 13  6  6  6  6 10 10 14\n",
      "  5  6  8  6  7  5  7  7  4  7  6  7  9 12  5  6 10 11  6  8  9  6  4  8\n",
      "  7  9 15  5  5 10  5  7 12  6  8  4  4  9  5  4  8  7  3  8  3  6 10  9\n",
      "  3  5  7  6  9  4  8  6 10  8  4 10  8  8  8  7  3  3  5  7  5  4  9  7\n",
      "  2  7 10  4  6  8  5  7  3  4  7 10 13  6  4  9  7  7 14  7 11  4  8  5\n",
      "  7  9 11 11  6  5  6  7  9  3  5  2  6  6  4  6 10  4  5  8  2  5  7  7\n",
      "  7  5  8  4  7  5  7  7 13  6  9  3  9  2  5  4  9 10  7  9 11  8 14  6\n",
      " 12 11  7  9  6  6  6  7  3  4  5  5 16  3  7  7  6  9  4  5  8  6  6  8\n",
      "  4 11 10  7 11  7  4 11  7 11  5  8  8  6  9  8  5  8  4  2 10  5  8 11\n",
      "  6  7  9  5  8  7 10  4  9  7 10  2  9 12  9  4  7 12  3  6  4  7  6  5\n",
      "  7  6  6  8  3  6  6  2  6  9 10  8  2  6 11  4  4  6  6  7  7  9  7  7\n",
      "  7  9 10  9  7 10  5  9  4  6 10  8  7  8  3 11  7  5  4  7  1  7  7  7\n",
      " 10  7  7  9 13  7  9 11  7  8 12  4  4  6  2  6  6  8 11  8  8  7  7  3\n",
      "  5  5  5 10 10 14  5  8 11  5  5  6  3  7  4 10 11  6  7  7  4  7 13  4\n",
      "  9  5  2  5  7  8  5  6  4  7  6  6  9  9  9  5 11 10  6  8  6  7  8  7\n",
      "  5  5  1  5  9 10  5  5  5  8  3  6  9 14  8  9  4  3  6  8  3  5 10  6\n",
      " 10  9  3 12  4  4  9  3  9  7  9  7 10  6  6  4 10 10  7  2  2  3  7  4\n",
      "  6  6  5  6  7  6  2  9  9  9  5  9  6  7  8  6  4  6  4  5  6  7  6  8\n",
      "  8  8  5 15  4  7  8  8  4  6 10  8  8  5  8  5  8  3  7  7  7  3  9  9\n",
      " 12  6  6  6 10  6 13  4  5  4  7 10  7  7  9  5  6  7  6  4  6  9  4  6\n",
      "  5  4  6  4  3  5  6  8  4  6  6  6 11  9  6  9  6  0  8  3  6  3  3 13\n",
      "  7 12  3  8  9  8 12  8  7  7  5  4  7 14  6  2 11  6  6  3  2  7  7  7\n",
      "  3  5  7  4  3  6  6 11  6  7 11 12  5  7 10  6  8  5  5  7  9  6 14 11\n",
      "  8  7  7  9 13  6  5  7  7  4  9  7  4  4  9  6  8 10 10  5 10  9  7  9\n",
      "  4  9  8 11  3  6 13  9  6 10  7  9  7  5 10 10]\n"
     ]
    }
   ],
   "source": [
    "data_poison = np.random.poisson(lam=7, size=1000)\n",
    "print(data_poison)"
   ]
  },
  {
   "cell_type": "code",
   "execution_count": 32,
   "metadata": {},
   "outputs": [
    {
     "data": {
      "text/plain": [
       "<matplotlib.axes._subplots.AxesSubplot at 0x7f7ccbdc9850>"
      ]
     },
     "execution_count": 32,
     "metadata": {},
     "output_type": "execute_result"
    },
    {
     "data": {
      "image/png": "[encoded data removed]",
      "text/plain": [
       "<Figure size 432x288 with 1 Axes>"
      ]
     },
     "metadata": {
      "needs_background": "light"
     },
     "output_type": "display_data"
    }
   ],
   "source": [
    "sns.distplot(data_poison, kde=False)"
   ]
  },
  {
   "cell_type": "code",
   "execution_count": 45,
   "metadata": {},
   "outputs": [
    {
     "name": "stdout",
     "output_type": "stream",
     "text": [
      "[1.95316141e+00 5.21043469e+00 4.66365438e-01 2.65052938e+00\n",
      " 1.97892714e-01 5.58669130e-01 3.18281965e+00 1.48795125e+00\n",
      " 1.95190024e+00 1.39706309e-01 3.26798313e+00 9.33463998e-01\n",
      " 3.62626745e+00 3.58152646e-01 1.15225899e+01 1.66315632e-01\n",
      " 9.35099711e-01 3.75827966e+00 2.62088792e-01 1.34438795e+00\n",
      " 3.15873060e+00 2.64698964e+00 1.92422500e+00 7.08366985e-01\n",
      " 2.10188505e+00 2.59592261e+00 3.41268278e+00 1.04944610e+00\n",
      " 1.10726848e+00 1.24545504e+00 1.15713943e+00 1.83275846e+00\n",
      " 2.56807362e+00 9.26230576e-01 2.20169932e-01 5.15920185e-01\n",
      " 8.06609202e-01 2.83901086e+00 2.89806220e+00 2.81877172e+00\n",
      " 4.11675761e-01 6.19670808e+00 3.31598342e+00 7.11584267e-01\n",
      " 1.01187506e+00 1.57534726e+00 2.16764309e+00 3.28959841e-01\n",
      " 3.02704335e+00 6.02821152e-01 5.01341389e+00 1.26840053e+00\n",
      " 7.11539271e+00 3.90256697e-01 5.93079435e-01 1.44598924e+00\n",
      " 7.20942337e-01 3.91659123e-01 1.42371149e+00 1.51038737e+00\n",
      " 8.59743591e-01 1.34010830e+00 1.24290875e+00 1.73791839e+00\n",
      " 1.98047585e+00 6.21461002e+00 6.01529052e+00 6.37016897e-01\n",
      " 4.74019712e+00 2.88420352e+00 2.68309186e+00 3.81170081e+00\n",
      " 1.03689528e-01 6.02825350e+00 3.48292876e+00 2.17385268e+00\n",
      " 2.35719012e+00 3.12305383e-01 1.93196336e+00 3.64250743e+00\n",
      " 3.94281716e+00 3.65830515e-01 3.09922344e+00 3.76166343e-01\n",
      " 1.43304695e+00 2.93472674e+00 3.57828402e+00 2.45293546e-01\n",
      " 1.33626179e+00 7.02692893e-01 2.12836945e+00 1.14069774e-01\n",
      " 1.09711068e+00 4.87062220e+00 2.84513333e-01 4.75273904e-01\n",
      " 4.92126628e+00 2.90717852e+00 1.90051469e+00 1.83666816e+00\n",
      " 1.58784819e+00 3.87887860e+00 2.44767297e+00 7.65802083e-01\n",
      " 5.41955838e-01 8.60891463e-01 5.16676577e+00 2.68327585e+00\n",
      " 5.95872947e+00 8.85922313e-01 2.40333280e+00 3.69742195e+00\n",
      " 2.09250673e-01 7.82270938e-01 2.89279001e+00 8.71614756e-01\n",
      " 1.99446181e+00 2.79360644e-01 2.98969960e+00 2.79136430e+00\n",
      " 1.65219655e+00 3.05660259e+00 6.90288186e-01 1.79955490e+00\n",
      " 1.29190242e+00 2.32464291e+00 2.99144635e-01 7.79069196e-02\n",
      " 1.27115395e+00 4.87285974e-01 5.43377372e-01 1.97089849e+00\n",
      " 1.37185575e+00 7.47474391e-01 2.55096968e+00 2.17218631e+00\n",
      " 2.42978106e+00 7.26138678e+00 6.34758053e-01 1.15833588e-01\n",
      " 7.68887922e-02 1.42604624e+00 6.36679563e-01 7.86235401e-01\n",
      " 3.30556760e+00 5.27549155e+00 1.32571705e+00 3.40734546e+00\n",
      " 2.26098186e+00 2.52494352e+00 6.31335031e-01 2.32252322e+00\n",
      " 2.32972800e+00 2.06602128e-01 1.51494437e+00 8.69877442e-02\n",
      " 9.05826435e-01 2.42451483e+00 4.25105074e+00 2.83480542e+00\n",
      " 2.57207314e+00 1.37372286e+00 2.69217328e+00 6.48091791e-01\n",
      " 6.84624081e-01 1.91196695e+00 7.46875020e-02 1.34430177e+00\n",
      " 8.39815696e-01 1.57940742e+00 2.30596231e+00 2.70581155e-01\n",
      " 2.03584279e+00 1.06948215e+00 4.26758057e+00 7.00576779e+00\n",
      " 5.94729028e-02 4.78980025e+00 1.70512569e-01 1.42168929e+00\n",
      " 2.98065046e+00 5.24877457e+00 1.37942420e+00 2.50812895e+00\n",
      " 1.28600366e+00 1.92952138e-01 6.84465374e-01 4.31041239e-02\n",
      " 6.92013780e-01 5.41464642e-01 2.39172397e+00 8.56090909e-01\n",
      " 1.06813798e+00 2.93887449e+00 2.23328238e+00 1.54714996e+00\n",
      " 4.93855673e+00 3.33731474e+00 1.62531298e+00 4.66576951e-01\n",
      " 2.33885797e+00 2.26431856e+00 7.51217873e-01 3.21217041e-01\n",
      " 1.94514475e+00 1.90368424e+00 3.68369184e+00 4.69382241e+00\n",
      " 1.01379660e+00 1.35498473e+00 2.87705485e+00 1.38396143e+00\n",
      " 2.79095451e+00 2.86301078e-01 8.27697965e+00 1.81950727e-01\n",
      " 1.25250091e+01 9.85140304e-01 7.61198577e-02 1.36376965e+00\n",
      " 8.20830553e-01 1.38143224e+00 2.77237119e-01 2.51942162e+00\n",
      " 9.39459543e-02 2.68883368e+00 4.28305461e+00 1.21821642e+00\n",
      " 1.01784657e-01 1.72778629e+00 2.11928537e+00 5.93602700e+00\n",
      " 2.54044488e+00 4.20437888e-01 2.60330092e+00 2.14440501e-01\n",
      " 5.33639914e-01 4.42670447e-01 9.15936483e-01 3.16539462e-01\n",
      " 2.94041511e-01 8.98953056e-01 3.79921431e-01 9.50232329e-01\n",
      " 4.41796545e+00 8.07512397e-02 1.43513244e+00 2.82971370e-01\n",
      " 1.20872592e+00 5.03595045e-01 2.30781038e+00 2.90915788e-01\n",
      " 1.00381689e+00 5.07478256e+00 4.38175581e+00 7.62181192e+00\n",
      " 2.81349393e+00 6.76834820e+00 1.70537788e+00 2.07325928e+00\n",
      " 2.21153951e+00 7.05458459e-01 3.80354113e-01 4.36040231e-02\n",
      " 1.06701421e+00 1.33820879e+00 2.22742390e+00 1.81729829e-01\n",
      " 2.87189264e-01 5.53855010e+00 1.40120826e+00 5.35813608e+00\n",
      " 3.48864368e+00 2.91593283e+00 3.28664133e+00 2.68184013e+00\n",
      " 1.65884697e+00 9.33963610e-01 2.20638413e+00 1.33369767e+00\n",
      " 2.12023379e+00 4.23235290e+00 1.55676518e+00 1.89739228e+00\n",
      " 5.31482009e+00 3.79136674e-01 1.41211223e+00 7.46936042e-01\n",
      " 1.38708935e-01 1.78560255e-01 2.33665889e+00 1.55516326e+00\n",
      " 7.52735291e-02 1.78628405e+00 1.02473049e+00 1.24039629e+00\n",
      " 3.92834191e+00 3.08428500e-01 9.10759257e-01 1.50319402e+00\n",
      " 8.34969576e-01 2.23179528e+00 1.59495687e+00 7.32759403e-01\n",
      " 6.92252294e-01 2.00141224e+00 4.21016133e+00 7.28016223e-01\n",
      " 1.78510753e-01 2.60789202e+00 3.45961429e+00 2.28405489e+00\n",
      " 7.85980764e-01 6.84205411e-01 2.69199513e-01 9.44410570e-01\n",
      " 7.96374729e-01 8.21821988e-01 9.33407313e-01 4.19079685e+00\n",
      " 4.07816072e+00 1.44387416e+00 1.48626393e+00 3.68899575e-02\n",
      " 5.35544006e+00 5.53743289e-01 4.42206805e+00 9.29346383e-01\n",
      " 4.22245725e-01 3.27623019e-01 5.79407910e-01 4.77262763e-01\n",
      " 2.19475912e-01 8.51438813e-01 2.38686530e+00 6.05088768e-01\n",
      " 3.47364535e-01 2.24451990e-01 2.63181949e+00 1.22336923e-01\n",
      " 9.75245663e-01 2.69190570e-01 1.46623583e+00 1.30330523e+00\n",
      " 2.68493996e-01 7.76318954e+00 4.49345278e+00 3.63665246e-02\n",
      " 1.91011081e+00 1.50664206e+00 2.87888100e+00 1.99045378e+00\n",
      " 2.17568948e+00 4.53269790e-03 5.86175381e-01 4.39525687e+00\n",
      " 1.83234913e+00 7.78396616e-01 3.12373797e+00 5.44412560e-01\n",
      " 8.21452329e-01 6.02798509e-01 2.85391481e+00 3.29927636e+00\n",
      " 4.66002075e+00 8.72496270e+00 8.79043338e-01 3.21809953e+00\n",
      " 8.59221873e-01 7.18308013e-01 5.86168616e-01 2.39606116e-01\n",
      " 2.71759986e+00 4.62863105e+00 1.87969300e+00 2.91443006e+00\n",
      " 5.20797296e+00 3.30727393e+00 5.32856125e-01 3.29165027e+00\n",
      " 9.85115140e-01 3.39198429e+00 4.11225260e+00 1.52697873e+00\n",
      " 1.29425350e+00 3.82049726e+00 9.74325103e-01 7.47565424e-01\n",
      " 3.44396206e-01 1.10089389e-01 2.05525180e+00 8.26210969e+00\n",
      " 7.06732905e-02 6.25009496e+00 3.65242294e+00 1.33665015e+00\n",
      " 4.28716112e+00 5.67310970e-01 1.19869790e+00 1.19908554e-02\n",
      " 1.49911197e-01 3.10368383e+00 1.55368548e+00 4.65416434e+00\n",
      " 2.74388873e+00 1.10972928e+00 1.13492324e+00 2.08415377e+00\n",
      " 1.24813985e+00 1.30172297e-02 1.01460881e+00 2.15389816e+00\n",
      " 1.18735444e+00 1.99545233e-01 3.76549047e-01 3.92351426e+00\n",
      " 8.75461028e-01 1.40846196e+00 1.55001224e+00 3.64526199e+00\n",
      " 1.46225420e+00 3.96983119e-01 1.40486390e+00 1.23225506e-01\n",
      " 1.68401731e+00 1.56691678e+00 9.21012871e-01 2.62588417e+00\n",
      " 4.34557689e+00 3.16937674e+00 2.97295286e-01 1.68047784e+00\n",
      " 5.02820763e-01 1.23841538e+01 8.02108186e-01 4.03490345e+00\n",
      " 6.13599831e-01 3.37271351e-01 1.02411754e+00 2.30733589e-01\n",
      " 1.73317931e-01 2.19962067e-01 3.23595594e-01 6.02589957e-01\n",
      " 3.59213607e-01 1.33051433e+00 1.59183779e+00 1.49024454e+00\n",
      " 5.25998010e-01 6.69720938e-01 2.75831223e-01 1.94771678e-01\n",
      " 1.00804922e+00 2.71083617e+00 1.20529242e-01 4.82420693e+00\n",
      " 1.90105595e+00 4.30623355e+00 2.35616807e+00 4.40854514e+00\n",
      " 1.08599345e-01 3.17407347e+00 1.24926884e+00 1.73603492e+00\n",
      " 1.16543737e-01 8.27035212e+00 1.17849973e+00 2.05750361e+00\n",
      " 2.00327695e+00 7.78378341e-01 2.71698295e-02 2.58629172e-01\n",
      " 2.54740459e-01 1.68688718e+00 2.43727884e-01 6.01044123e+00\n",
      " 1.32097949e+00 1.69499239e+00 4.20385650e+00 1.70449146e+00\n",
      " 4.60862791e-01 4.50494293e-01 3.26656901e-01 1.82552492e-01\n",
      " 3.90093747e+00 6.01877845e-02 8.49631277e-02 2.04982017e+00\n",
      " 2.04314241e+00 4.15947234e-01 2.73806777e+00 1.85067467e+00\n",
      " 2.85383308e-01 2.41299409e+00 2.60065581e+00 1.95754756e+00\n",
      " 1.15235468e+00 4.65070782e+00 2.06805411e+00 2.08167267e+00\n",
      " 1.90194926e-01 5.15863028e-01 1.02741152e+00 1.90932387e-01\n",
      " 7.26408410e-01 2.43715134e+00 1.85873672e+00 1.14373662e+00\n",
      " 2.42418843e+00 1.95046309e+00 2.19778724e+00 1.16437501e+00\n",
      " 2.07424090e+00 8.45743217e-01 2.03034700e+00 2.63546472e+00\n",
      " 4.09067914e+00 1.45823316e+00 9.67758864e-01 1.77600455e-01\n",
      " 3.79774136e-01 1.16912560e+00 2.79392429e+00 1.34166843e+00\n",
      " 6.72109171e+00 9.55027443e-01 1.45180803e+00 7.66482961e+00\n",
      " 2.14721387e+00 4.45505415e-01 1.00344997e+00 1.57296320e+00\n",
      " 8.01071319e+00 4.82940031e-01 2.44200081e-01 6.00839261e+00\n",
      " 1.01487704e+00 8.83449306e-01 2.24650712e+00 1.64311800e+00\n",
      " 9.11376173e-01 5.72533174e+00 7.35085469e-01 8.47624581e-02\n",
      " 3.19341196e+00 1.49800655e+00 6.44429914e-01 2.30807337e+00\n",
      " 1.78024212e+00 6.91248785e-01 4.54873668e+00 2.25486879e+00\n",
      " 7.91208703e+00 1.09142398e+00 3.01975078e-01 9.29792247e-01\n",
      " 8.88634742e-02 2.12614777e+00 3.47206602e+00 2.91256179e+00\n",
      " 3.05005236e+00 4.66653487e+00 5.27675542e-01 1.42994202e+00\n",
      " 1.37201548e+00 4.23143862e+00 2.45061018e+00 5.71996700e-03\n",
      " 8.80320691e-01 1.05118680e-01 1.76599195e+00 2.25565279e-01\n",
      " 6.35430800e-01 6.72989749e-02 4.04353474e+00 6.55454091e-01\n",
      " 1.52313487e-01 8.60679623e-01 7.55850754e-01 2.66293909e+00\n",
      " 9.99499338e-01 5.85640162e+00 2.50272892e+00 3.43043244e+00\n",
      " 1.56935597e+00 4.65752542e+00 4.16063603e+00 3.88399939e+00\n",
      " 3.81323314e-01 2.40368994e+00 3.00234917e+00 4.74899683e-02\n",
      " 2.92480341e-01 2.57355974e+00 7.12117422e-01 1.89882716e+00\n",
      " 6.89116690e-01 2.79850891e+00 8.67774340e-01 1.01132018e+01\n",
      " 2.89745629e+00 5.50643058e+00 2.02965019e+00 1.98270874e-02\n",
      " 5.40314782e+00 1.49606782e+00 3.57980368e-01 2.08453280e+00\n",
      " 1.39637294e+00 1.43961885e+00 1.34085843e+00 2.54126623e+00\n",
      " 1.36106280e+00 1.05161586e-01 4.30190600e+00 9.17392280e-01\n",
      " 2.41007118e-01 1.24374552e+00 1.10523037e+00 8.59870554e-01\n",
      " 1.50352863e+00 1.78497722e+00 8.13795236e+00 1.17341534e+00\n",
      " 3.18361845e+00 5.69976247e+00 1.86373100e+00 1.65207031e+00\n",
      " 9.81543257e-01 2.27726681e+00 2.33967686e+00 4.46305297e+00\n",
      " 1.15204244e+00 1.78495291e+00 3.60990755e-01 2.74700473e+00\n",
      " 4.50501416e+00 3.47281685e+00 6.07954809e-01 6.07830749e-01\n",
      " 2.32068345e+00 2.22015752e+00 8.06081724e-01 1.82863090e+00\n",
      " 7.69981104e-02 7.41274530e-01 9.89447254e-02 1.33858961e+00\n",
      " 3.88937246e+00 3.97179456e-01 3.06980871e+00 7.20763378e-01\n",
      " 1.54604272e+00 1.62222916e-01 1.15695238e+00 5.85111518e+00\n",
      " 4.82332253e-02 1.78219572e+00 3.50799162e-01 1.05936073e+00\n",
      " 2.12585692e-01 7.17976737e+00 4.38340508e+00 1.41692391e+00\n",
      " 6.08729766e-02 5.65223223e+00 2.42418220e+00 2.44081294e+00\n",
      " 2.15889969e+00 6.33531315e-01 2.64637184e-01 3.35022839e-02\n",
      " 5.25703420e+00 1.27221851e+00 3.43976561e+00 3.42531917e-01\n",
      " 1.42159559e+00 5.63410718e+00 3.36415463e-02 5.16403659e+00\n",
      " 6.09576073e+00 3.60405393e+00 1.92318230e+00 6.26496492e-01\n",
      " 6.82920584e-01 5.57194495e+00 4.64060886e-01 1.16657456e+00\n",
      " 4.57380984e-02 3.73217001e+00 4.91813719e-01 6.05868167e+00\n",
      " 1.08157179e+00 4.29021242e-02 2.98125152e+00 7.39751228e-02\n",
      " 3.48009250e-01 2.62991610e+00 9.68534130e-01 2.71982537e+00\n",
      " 4.02962181e+00 1.73595205e+00 5.44150092e+00 3.34393821e+00\n",
      " 1.85525853e+00 9.21533821e-01 6.75295321e+00 2.11835397e-01\n",
      " 1.03946827e+00 3.27002189e-01 8.27724830e-02 1.10804272e+00\n",
      " 4.90873975e+00 5.28736016e-01 9.75028442e-01 1.99974930e-01\n",
      " 9.20774066e-01 1.71731654e+00 5.36565859e+00 2.13493711e+00\n",
      " 7.64197996e-01 8.50511196e-02 8.80388024e-01 4.72193344e-01\n",
      " 2.40186486e+00 4.64616018e+00 5.07586305e-01 6.02043343e+00\n",
      " 1.32084461e+00 1.76913639e+00 4.20527668e+00 2.84790470e-02\n",
      " 1.83864252e+00 9.91343106e-01 4.10423351e+00 3.67909094e-01\n",
      " 9.14313764e+00 4.39245431e+00 1.07803413e+00 3.83800079e+00\n",
      " 1.24919256e+00 6.30420402e-01 1.60818929e+00 6.73343740e-01\n",
      " 2.31580884e+00 5.31996382e-01 2.59239741e+00 1.11570564e+00\n",
      " 6.51527077e-01 6.49786067e+00 4.60437489e-01 1.97288478e+00\n",
      " 2.35825386e+00 2.08576122e+00 4.78918118e+00 3.27115071e+00\n",
      " 1.99792570e+00 2.40006039e+00 8.82410383e-01 3.72006988e+00\n",
      " 1.26919217e+00 1.23010385e+00 3.19169604e+00 6.87414852e+00\n",
      " 1.04254740e+00 1.60030073e+00 9.71442808e-01 1.02031353e+00\n",
      " 1.56191367e+00 6.07792158e+00 1.12236920e+00 6.42298564e-02\n",
      " 1.26685506e+00 5.47721197e-02 2.58078601e-01 1.46320082e+00\n",
      " 4.21465513e-02 4.96565805e+00 7.24877774e-01 1.60620973e+00\n",
      " 1.26798388e+00 1.51519440e+00 7.99846715e-02 3.61712979e+00\n",
      " 2.27280301e+00 1.05623563e+00 4.66261653e+00 1.04237144e+00\n",
      " 5.72734626e+00 8.17616406e-01 7.26818660e-01 1.49742807e+00\n",
      " 4.68436338e+00 1.65888111e+00 1.42873311e-01 5.94592731e+00\n",
      " 9.50468905e-01 6.27570707e-01 1.75258898e+00 7.84191913e-01\n",
      " 1.80064655e+00 1.45996485e+00 2.14315171e+00 1.28511251e+00\n",
      " 3.33222191e+00 7.69995919e-01 1.34896872e+00 5.46582441e+00\n",
      " 6.95789821e-01 2.51077176e-01 2.77857090e+00 2.78184252e+00\n",
      " 3.37933313e+00 1.24287239e+00 5.53666309e-01 1.04237436e+00\n",
      " 1.40201507e+00 1.07831754e+00 7.43450014e-01 5.86221198e-01\n",
      " 1.68192737e+00 6.33797998e-01 4.02895983e-01 6.18307193e-01\n",
      " 4.04301470e+00 5.36135739e-01 2.54838356e-01 4.12880682e-01\n",
      " 2.75363958e+00 7.27310016e-01 1.07795982e-01 3.37442469e-01\n",
      " 4.70287112e-01 1.04886735e-01 3.27553570e-01 5.46212238e+00\n",
      " 8.90541465e-01 3.19136591e+00 2.14765222e+00 2.95651655e+00\n",
      " 6.18210958e+00 6.60439610e-01 3.80148611e+00 4.24129108e+00\n",
      " 1.00343682e+00 7.97375241e-01 1.56410519e+00 3.38203199e+00\n",
      " 1.17666842e+00 4.62134628e+00 1.93571803e+00 1.11946280e-01\n",
      " 5.57339985e-01 3.20404331e-01 2.57095570e+00 2.33155244e+00\n",
      " 6.90639648e+00 5.00356224e-01 6.27240661e-02 7.09377950e+00\n",
      " 6.74264107e-01 1.96535998e-01 9.85016708e-01 9.56465389e-02\n",
      " 5.65855081e-01 2.97936561e+00 6.39300091e+00 3.68861807e+00\n",
      " 5.53644004e-01 3.67184981e+00 4.90413353e+00 1.91757254e+00\n",
      " 5.14688864e+00 2.92245498e+00 8.18067776e+00 7.65084658e-01\n",
      " 3.89106620e+00 8.60321689e+00 3.32612782e-01 8.46943341e-02\n",
      " 3.15746139e+00 1.08994853e+00 3.74181193e-01 1.70048907e-02\n",
      " 1.30473880e+00 2.94295286e-01 2.50461268e-01 2.21848239e-01\n",
      " 5.61800839e-01 9.90207614e-01 2.35052085e+00 5.62412591e-01\n",
      " 4.97249639e+00 1.00932600e+00 1.79055476e+00 7.55036743e-01\n",
      " 3.80693372e-01 5.50511692e-01 1.07415580e-01 2.46714515e+00\n",
      " 2.60959374e+00 1.09501787e+00 1.23110782e+00 1.53326133e+00\n",
      " 1.30300774e-02 4.16178192e+00 3.92958098e-01 2.62375979e-01\n",
      " 6.26967136e+00 1.13547996e+00 1.13939871e+00 2.19650544e+00\n",
      " 5.44375256e+00 2.51496752e+00 1.79828630e-01 2.17202052e+00\n",
      " 2.02671068e+00 8.74292929e-01 3.37532551e-01 1.25264720e-01\n",
      " 3.55433863e+00 4.40444677e+00 1.54906856e+00 3.37258846e+00\n",
      " 1.06828416e+00 5.73961487e-01 1.83082965e+00 1.25521485e-01\n",
      " 3.19452728e+00 1.20174541e+00 2.06741110e+00 4.99325062e+00\n",
      " 4.35804527e+00 7.12503941e-01 1.40194391e+00 1.29243860e-01\n",
      " 4.20782629e-01 1.17732513e+00 3.48616316e-01 2.15293993e+00\n",
      " 3.28679864e-01 6.75307372e-01 1.86546066e+00 2.74973139e-01\n",
      " 2.97902690e-01 3.71801796e+00 5.16765830e-01 6.39900781e-01\n",
      " 1.10362365e+00 6.95751048e+00 4.57588931e-01 5.82278180e-01\n",
      " 8.09884040e+00 1.64517264e-01 9.35669485e-01 2.13718179e-01\n",
      " 2.52824052e+00 1.43612995e+00 8.83325664e-01 6.72629239e-01\n",
      " 8.27727678e-01 7.48996004e-02 3.94761409e+00 2.11511733e+00\n",
      " 1.37087470e+00 1.75405883e+00 3.63966470e+00 1.75624994e+00\n",
      " 2.49091754e-01 1.19081502e+00 9.10879518e-01 2.84861269e+00\n",
      " 1.01402543e+00 1.96975709e+00 1.30442673e+00 8.41720064e-01\n",
      " 6.57591692e-01 5.40241673e-01 5.81507464e-01 2.27626234e+00\n",
      " 1.33036754e+00 1.53089250e+00 1.28178069e+00 7.85024710e-01\n",
      " 3.34916594e+00 1.43255860e+00 4.41431195e+00 8.13546724e+00\n",
      " 3.12757276e-01 5.83054824e+00 2.08572441e-01 8.47349351e-01\n",
      " 9.23804736e-01 3.53883970e+00 2.40318267e-01 1.96745750e+00\n",
      " 5.11879163e+00 3.88627282e-01 3.21060112e+00 2.79293265e-01]\n"
     ]
    }
   ],
   "source": [
    "data_exponential = np.random.exponential(scale=2, size=1000)\n",
    "print(data_exponential)"
   ]
  },
  {
   "cell_type": "code",
   "execution_count": 46,
   "metadata": {},
   "outputs": [
    {
     "data": {
      "text/plain": [
       "<matplotlib.axes._subplots.AxesSubplot at 0x7f7cc375c190>"
      ]
     },
     "execution_count": 46,
     "metadata": {},
     "output_type": "execute_result"
    },
    {
     "data": {
      "image/png": "[encoded data removed]",
      "text/plain": [
       "<Figure size 432x288 with 1 Axes>"
      ]
     },
     "metadata": {
      "needs_background": "light"
     },
     "output_type": "display_data"
    }
   ],
   "source": [
    "sns.distplot(data_exponential)"
   ]
  },
  {
   "cell_type": "code",
   "execution_count": 48,
   "metadata": {},
   "outputs": [
    {
     "data": {
      "text/plain": [
       "0.57"
      ]
     },
     "execution_count": 48,
     "metadata": {},
     "output_type": "execute_result"
    }
   ],
   "source": [
    "(95/100) * (60/100)"
   ]
  }
 ],
 "metadata": {
  "kernelspec": {
   "display_name": "Python 3",
   "language": "python",
   "name": "python3"
  },
  "language_info": {
   "codemirror_mode": {
    "name": "ipython",
    "version": 3
   },
   "file_extension": ".py",
   "mimetype": "text/x-python",
   "name": "python",
   "nbconvert_exporter": "python",
   "pygments_lexer": "ipython3",
   "version": "3.7.6"
  }
 },
 "nbformat": 4,
 "nbformat_minor": 4
}
