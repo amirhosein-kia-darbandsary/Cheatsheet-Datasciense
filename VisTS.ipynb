{
 "cells": [
  {
   "cell_type": "code",
   "execution_count": 25,
   "metadata": {},
   "outputs": [],
   "source": [
    "import pandas as pd\n",
    "import numpy as np\n",
    "import matplotlib.pyplot as plt\n",
    "import seaborn as sns "
   ]
  },
  {
   "cell_type": "code",
   "execution_count": 2,
   "metadata": {},
   "outputs": [
    {
     "data": {
      "text/html": [
       "<div>\n",
       "<style scoped>\n",
       "    .dataframe tbody tr th:only-of-type {\n",
       "        vertical-align: middle;\n",
       "    }\n",
       "\n",
       "    .dataframe tbody tr th {\n",
       "        vertical-align: top;\n",
       "    }\n",
       "\n",
       "    .dataframe thead th {\n",
       "        text-align: right;\n",
       "    }\n",
       "</style>\n",
       "<table border=\"1\" class=\"dataframe\">\n",
       "  <thead>\n",
       "    <tr style=\"text-align: right;\">\n",
       "      <th></th>\n",
       "      <th>Date</th>\n",
       "      <th>Open</th>\n",
       "      <th>High</th>\n",
       "      <th>Low</th>\n",
       "      <th>Close</th>\n",
       "      <th>Adj Close</th>\n",
       "      <th>Volume</th>\n",
       "    </tr>\n",
       "  </thead>\n",
       "  <tbody>\n",
       "    <tr>\n",
       "      <th>0</th>\n",
       "      <td>2013-12-10</td>\n",
       "      <td>80.511429</td>\n",
       "      <td>81.125717</td>\n",
       "      <td>80.171425</td>\n",
       "      <td>80.792854</td>\n",
       "      <td>72.205704</td>\n",
       "      <td>69567400</td>\n",
       "    </tr>\n",
       "    <tr>\n",
       "      <th>1</th>\n",
       "      <td>2013-12-11</td>\n",
       "      <td>81.000000</td>\n",
       "      <td>81.567146</td>\n",
       "      <td>79.955711</td>\n",
       "      <td>80.194283</td>\n",
       "      <td>71.670746</td>\n",
       "      <td>89929700</td>\n",
       "    </tr>\n",
       "    <tr>\n",
       "      <th>2</th>\n",
       "      <td>2013-12-12</td>\n",
       "      <td>80.305717</td>\n",
       "      <td>80.762856</td>\n",
       "      <td>80.004288</td>\n",
       "      <td>80.077141</td>\n",
       "      <td>71.566086</td>\n",
       "      <td>65572500</td>\n",
       "    </tr>\n",
       "    <tr>\n",
       "      <th>3</th>\n",
       "      <td>2013-12-13</td>\n",
       "      <td>80.407143</td>\n",
       "      <td>80.411430</td>\n",
       "      <td>79.095711</td>\n",
       "      <td>79.204285</td>\n",
       "      <td>70.785973</td>\n",
       "      <td>83205500</td>\n",
       "    </tr>\n",
       "    <tr>\n",
       "      <th>4</th>\n",
       "      <td>2013-12-16</td>\n",
       "      <td>79.288574</td>\n",
       "      <td>80.377144</td>\n",
       "      <td>79.287140</td>\n",
       "      <td>79.642860</td>\n",
       "      <td>71.177933</td>\n",
       "      <td>70648200</td>\n",
       "    </tr>\n",
       "  </tbody>\n",
       "</table>\n",
       "</div>"
      ],
      "text/plain": [
       "         Date       Open       High        Low      Close  Adj Close    Volume\n",
       "0  2013-12-10  80.511429  81.125717  80.171425  80.792854  72.205704  69567400\n",
       "1  2013-12-11  81.000000  81.567146  79.955711  80.194283  71.670746  89929700\n",
       "2  2013-12-12  80.305717  80.762856  80.004288  80.077141  71.566086  65572500\n",
       "3  2013-12-13  80.407143  80.411430  79.095711  79.204285  70.785973  83205500\n",
       "4  2013-12-16  79.288574  80.377144  79.287140  79.642860  71.177933  70648200"
      ]
     },
     "execution_count": 2,
     "metadata": {},
     "output_type": "execute_result"
    }
   ],
   "source": [
    "data = pd.read_csv('AAPL.csv')\n",
    "data.head()"
   ]
  },
  {
   "cell_type": "code",
   "execution_count": 3,
   "metadata": {},
   "outputs": [
    {
     "data": {
      "text/html": [
       "<div>\n",
       "<style scoped>\n",
       "    .dataframe tbody tr th:only-of-type {\n",
       "        vertical-align: middle;\n",
       "    }\n",
       "\n",
       "    .dataframe tbody tr th {\n",
       "        vertical-align: top;\n",
       "    }\n",
       "\n",
       "    .dataframe thead th {\n",
       "        text-align: right;\n",
       "    }\n",
       "</style>\n",
       "<table border=\"1\" class=\"dataframe\">\n",
       "  <thead>\n",
       "    <tr style=\"text-align: right;\">\n",
       "      <th></th>\n",
       "      <th>Date</th>\n",
       "      <th>Open</th>\n",
       "      <th>High</th>\n",
       "      <th>Low</th>\n",
       "      <th>Close</th>\n",
       "      <th>Adj Close</th>\n",
       "      <th>Volume</th>\n",
       "    </tr>\n",
       "  </thead>\n",
       "  <tbody>\n",
       "    <tr>\n",
       "      <th>1254</th>\n",
       "      <td>2018-12-03</td>\n",
       "      <td>184.460007</td>\n",
       "      <td>184.940002</td>\n",
       "      <td>181.210007</td>\n",
       "      <td>184.820007</td>\n",
       "      <td>180.836609</td>\n",
       "      <td>40802500</td>\n",
       "    </tr>\n",
       "    <tr>\n",
       "      <th>1255</th>\n",
       "      <td>2018-12-04</td>\n",
       "      <td>180.949997</td>\n",
       "      <td>182.389999</td>\n",
       "      <td>176.270004</td>\n",
       "      <td>176.690002</td>\n",
       "      <td>172.881836</td>\n",
       "      <td>41344300</td>\n",
       "    </tr>\n",
       "    <tr>\n",
       "      <th>1256</th>\n",
       "      <td>2018-12-06</td>\n",
       "      <td>171.759995</td>\n",
       "      <td>174.779999</td>\n",
       "      <td>170.419998</td>\n",
       "      <td>174.720001</td>\n",
       "      <td>170.954300</td>\n",
       "      <td>43098400</td>\n",
       "    </tr>\n",
       "    <tr>\n",
       "      <th>1257</th>\n",
       "      <td>2018-12-07</td>\n",
       "      <td>173.490005</td>\n",
       "      <td>174.490005</td>\n",
       "      <td>168.300003</td>\n",
       "      <td>168.490005</td>\n",
       "      <td>164.858582</td>\n",
       "      <td>42281600</td>\n",
       "    </tr>\n",
       "    <tr>\n",
       "      <th>1258</th>\n",
       "      <td>2018-12-10</td>\n",
       "      <td>165.000000</td>\n",
       "      <td>170.089996</td>\n",
       "      <td>163.330002</td>\n",
       "      <td>169.600006</td>\n",
       "      <td>165.944656</td>\n",
       "      <td>62026000</td>\n",
       "    </tr>\n",
       "  </tbody>\n",
       "</table>\n",
       "</div>"
      ],
      "text/plain": [
       "            Date        Open        High         Low       Close   Adj Close  \\\n",
       "1254  2018-12-03  184.460007  184.940002  181.210007  184.820007  180.836609   \n",
       "1255  2018-12-04  180.949997  182.389999  176.270004  176.690002  172.881836   \n",
       "1256  2018-12-06  171.759995  174.779999  170.419998  174.720001  170.954300   \n",
       "1257  2018-12-07  173.490005  174.490005  168.300003  168.490005  164.858582   \n",
       "1258  2018-12-10  165.000000  170.089996  163.330002  169.600006  165.944656   \n",
       "\n",
       "        Volume  \n",
       "1254  40802500  \n",
       "1255  41344300  \n",
       "1256  43098400  \n",
       "1257  42281600  \n",
       "1258  62026000  "
      ]
     },
     "execution_count": 3,
     "metadata": {},
     "output_type": "execute_result"
    }
   ],
   "source": [
    "data.tail()"
   ]
  },
  {
   "cell_type": "code",
   "execution_count": 4,
   "metadata": {},
   "outputs": [
    {
     "name": "stdout",
     "output_type": "stream",
     "text": [
      "<class 'pandas.core.frame.DataFrame'>\n",
      "RangeIndex: 1259 entries, 0 to 1258\n",
      "Data columns (total 7 columns):\n",
      " #   Column     Non-Null Count  Dtype  \n",
      "---  ------     --------------  -----  \n",
      " 0   Date       1259 non-null   object \n",
      " 1   Open       1259 non-null   float64\n",
      " 2   High       1259 non-null   float64\n",
      " 3   Low        1259 non-null   float64\n",
      " 4   Close      1259 non-null   float64\n",
      " 5   Adj Close  1259 non-null   float64\n",
      " 6   Volume     1259 non-null   int64  \n",
      "dtypes: float64(5), int64(1), object(1)\n",
      "memory usage: 69.0+ KB\n"
     ]
    }
   ],
   "source": [
    "data.info()"
   ]
  },
  {
   "cell_type": "code",
   "execution_count": 5,
   "metadata": {},
   "outputs": [
    {
     "data": {
      "text/html": [
       "<div>\n",
       "<style scoped>\n",
       "    .dataframe tbody tr th:only-of-type {\n",
       "        vertical-align: middle;\n",
       "    }\n",
       "\n",
       "    .dataframe tbody tr th {\n",
       "        vertical-align: top;\n",
       "    }\n",
       "\n",
       "    .dataframe thead th {\n",
       "        text-align: right;\n",
       "    }\n",
       "</style>\n",
       "<table border=\"1\" class=\"dataframe\">\n",
       "  <thead>\n",
       "    <tr style=\"text-align: right;\">\n",
       "      <th></th>\n",
       "      <th>Open</th>\n",
       "      <th>High</th>\n",
       "      <th>Low</th>\n",
       "      <th>Close</th>\n",
       "      <th>Adj Close</th>\n",
       "      <th>Volume</th>\n",
       "    </tr>\n",
       "  </thead>\n",
       "  <tbody>\n",
       "    <tr>\n",
       "      <th>count</th>\n",
       "      <td>1259.000000</td>\n",
       "      <td>1259.000000</td>\n",
       "      <td>1259.000000</td>\n",
       "      <td>1259.000000</td>\n",
       "      <td>1259.000000</td>\n",
       "      <td>1.259000e+03</td>\n",
       "    </tr>\n",
       "    <tr>\n",
       "      <th>mean</th>\n",
       "      <td>130.280581</td>\n",
       "      <td>131.387004</td>\n",
       "      <td>129.160529</td>\n",
       "      <td>130.303043</td>\n",
       "      <td>122.971362</td>\n",
       "      <td>4.329180e+07</td>\n",
       "    </tr>\n",
       "    <tr>\n",
       "      <th>std</th>\n",
       "      <td>37.680103</td>\n",
       "      <td>38.018532</td>\n",
       "      <td>37.323462</td>\n",
       "      <td>37.674612</td>\n",
       "      <td>38.573628</td>\n",
       "      <td>2.399094e+07</td>\n",
       "    </tr>\n",
       "    <tr>\n",
       "      <th>min</th>\n",
       "      <td>70.739998</td>\n",
       "      <td>71.647141</td>\n",
       "      <td>70.507141</td>\n",
       "      <td>71.397141</td>\n",
       "      <td>63.808632</td>\n",
       "      <td>1.147590e+07</td>\n",
       "    </tr>\n",
       "    <tr>\n",
       "      <th>25%</th>\n",
       "      <td>101.689999</td>\n",
       "      <td>102.474998</td>\n",
       "      <td>100.779999</td>\n",
       "      <td>101.645001</td>\n",
       "      <td>93.823139</td>\n",
       "      <td>2.660710e+07</td>\n",
       "    </tr>\n",
       "    <tr>\n",
       "      <th>50%</th>\n",
       "      <td>118.050003</td>\n",
       "      <td>119.250000</td>\n",
       "      <td>117.129997</td>\n",
       "      <td>118.440002</td>\n",
       "      <td>110.468147</td>\n",
       "      <td>3.717350e+07</td>\n",
       "    </tr>\n",
       "    <tr>\n",
       "      <th>75%</th>\n",
       "      <td>157.065002</td>\n",
       "      <td>158.129998</td>\n",
       "      <td>155.855004</td>\n",
       "      <td>156.770004</td>\n",
       "      <td>150.822380</td>\n",
       "      <td>5.292720e+07</td>\n",
       "    </tr>\n",
       "    <tr>\n",
       "      <th>max</th>\n",
       "      <td>230.779999</td>\n",
       "      <td>233.470001</td>\n",
       "      <td>229.779999</td>\n",
       "      <td>232.070007</td>\n",
       "      <td>226.278717</td>\n",
       "      <td>2.663808e+08</td>\n",
       "    </tr>\n",
       "  </tbody>\n",
       "</table>\n",
       "</div>"
      ],
      "text/plain": [
       "              Open         High          Low        Close    Adj Close  \\\n",
       "count  1259.000000  1259.000000  1259.000000  1259.000000  1259.000000   \n",
       "mean    130.280581   131.387004   129.160529   130.303043   122.971362   \n",
       "std      37.680103    38.018532    37.323462    37.674612    38.573628   \n",
       "min      70.739998    71.647141    70.507141    71.397141    63.808632   \n",
       "25%     101.689999   102.474998   100.779999   101.645001    93.823139   \n",
       "50%     118.050003   119.250000   117.129997   118.440002   110.468147   \n",
       "75%     157.065002   158.129998   155.855004   156.770004   150.822380   \n",
       "max     230.779999   233.470001   229.779999   232.070007   226.278717   \n",
       "\n",
       "             Volume  \n",
       "count  1.259000e+03  \n",
       "mean   4.329180e+07  \n",
       "std    2.399094e+07  \n",
       "min    1.147590e+07  \n",
       "25%    2.660710e+07  \n",
       "50%    3.717350e+07  \n",
       "75%    5.292720e+07  \n",
       "max    2.663808e+08  "
      ]
     },
     "execution_count": 5,
     "metadata": {},
     "output_type": "execute_result"
    }
   ],
   "source": [
    "data.describe()"
   ]
  },
  {
   "cell_type": "code",
   "execution_count": 6,
   "metadata": {},
   "outputs": [],
   "source": [
    "def salam(x):\n",
    "    return x ** 2"
   ]
  },
  {
   "cell_type": "code",
   "execution_count": 7,
   "metadata": {},
   "outputs": [
    {
     "data": {
      "text/plain": [
       "0       2013-12-10\n",
       "1       2013-12-11\n",
       "2       2013-12-12\n",
       "3       2013-12-13\n",
       "4       2013-12-16\n",
       "           ...    \n",
       "1254    2018-12-03\n",
       "1255    2018-12-04\n",
       "1256    2018-12-06\n",
       "1257    2018-12-07\n",
       "1258    2018-12-10\n",
       "Name: Date, Length: 1259, dtype: object"
      ]
     },
     "execution_count": 7,
     "metadata": {},
     "output_type": "execute_result"
    }
   ],
   "source": [
    "data['Date']"
   ]
  },
  {
   "cell_type": "code",
   "execution_count": 27,
   "metadata": {},
   "outputs": [],
   "source": [
    "pd.to_datetime('2013-12-10')\n",
    "sns.set_style('dark')"
   ]
  },
  {
   "cell_type": "code",
   "execution_count": 28,
   "metadata": {},
   "outputs": [
    {
     "ename": "KeyError",
     "evalue": "'Date'",
     "output_type": "error",
     "traceback": [
      "\u001b[0;31m------------------------------------------------------------------------\u001b[0m",
      "\u001b[0;31mKeyError\u001b[0m                               Traceback (most recent call last)",
      "\u001b[0;32m~/anaconda3/lib/python3.8/site-packages/pandas/core/indexes/base.py\u001b[0m in \u001b[0;36mget_loc\u001b[0;34m(self, key, method, tolerance)\u001b[0m\n\u001b[1;32m   3079\u001b[0m             \u001b[0;32mtry\u001b[0m\u001b[0;34m:\u001b[0m\u001b[0;34m\u001b[0m\u001b[0;34m\u001b[0m\u001b[0m\n\u001b[0;32m-> 3080\u001b[0;31m                 \u001b[0;32mreturn\u001b[0m \u001b[0mself\u001b[0m\u001b[0;34m.\u001b[0m\u001b[0m_engine\u001b[0m\u001b[0;34m.\u001b[0m\u001b[0mget_loc\u001b[0m\u001b[0;34m(\u001b[0m\u001b[0mcasted_key\u001b[0m\u001b[0;34m)\u001b[0m\u001b[0;34m\u001b[0m\u001b[0;34m\u001b[0m\u001b[0m\n\u001b[0m\u001b[1;32m   3081\u001b[0m             \u001b[0;32mexcept\u001b[0m \u001b[0mKeyError\u001b[0m \u001b[0;32mas\u001b[0m \u001b[0merr\u001b[0m\u001b[0;34m:\u001b[0m\u001b[0;34m\u001b[0m\u001b[0;34m\u001b[0m\u001b[0m\n",
      "\u001b[0;32mpandas/_libs/index.pyx\u001b[0m in \u001b[0;36mpandas._libs.index.IndexEngine.get_loc\u001b[0;34m()\u001b[0m\n",
      "\u001b[0;32mpandas/_libs/index.pyx\u001b[0m in \u001b[0;36mpandas._libs.index.IndexEngine.get_loc\u001b[0;34m()\u001b[0m\n",
      "\u001b[0;32mpandas/_libs/hashtable_class_helper.pxi\u001b[0m in \u001b[0;36mpandas._libs.hashtable.PyObjectHashTable.get_item\u001b[0;34m()\u001b[0m\n",
      "\u001b[0;32mpandas/_libs/hashtable_class_helper.pxi\u001b[0m in \u001b[0;36mpandas._libs.hashtable.PyObjectHashTable.get_item\u001b[0;34m()\u001b[0m\n",
      "\u001b[0;31mKeyError\u001b[0m: 'Date'",
      "\nThe above exception was the direct cause of the following exception:\n",
      "\u001b[0;31mKeyError\u001b[0m                               Traceback (most recent call last)",
      "\u001b[0;32m<ipython-input-28-db406af5b4d1>\u001b[0m in \u001b[0;36m<module>\u001b[0;34m\u001b[0m\n\u001b[0;32m----> 1\u001b[0;31m \u001b[0mdata\u001b[0m\u001b[0;34m[\u001b[0m\u001b[0;34m'Date'\u001b[0m\u001b[0;34m]\u001b[0m \u001b[0;34m=\u001b[0m \u001b[0mdata\u001b[0m\u001b[0;34m[\u001b[0m\u001b[0;34m'Date'\u001b[0m\u001b[0;34m]\u001b[0m\u001b[0;34m.\u001b[0m\u001b[0mapply\u001b[0m\u001b[0;34m(\u001b[0m\u001b[0mpd\u001b[0m\u001b[0;34m.\u001b[0m\u001b[0mto_datetime\u001b[0m\u001b[0;34m)\u001b[0m\u001b[0;34m\u001b[0m\u001b[0;34m\u001b[0m\u001b[0m\n\u001b[0m",
      "\u001b[0;32m~/anaconda3/lib/python3.8/site-packages/pandas/core/frame.py\u001b[0m in \u001b[0;36m__getitem__\u001b[0;34m(self, key)\u001b[0m\n\u001b[1;32m   3022\u001b[0m             \u001b[0;32mif\u001b[0m \u001b[0mself\u001b[0m\u001b[0;34m.\u001b[0m\u001b[0mcolumns\u001b[0m\u001b[0;34m.\u001b[0m\u001b[0mnlevels\u001b[0m \u001b[0;34m>\u001b[0m \u001b[0;36m1\u001b[0m\u001b[0;34m:\u001b[0m\u001b[0;34m\u001b[0m\u001b[0;34m\u001b[0m\u001b[0m\n\u001b[1;32m   3023\u001b[0m                 \u001b[0;32mreturn\u001b[0m \u001b[0mself\u001b[0m\u001b[0;34m.\u001b[0m\u001b[0m_getitem_multilevel\u001b[0m\u001b[0;34m(\u001b[0m\u001b[0mkey\u001b[0m\u001b[0;34m)\u001b[0m\u001b[0;34m\u001b[0m\u001b[0;34m\u001b[0m\u001b[0m\n\u001b[0;32m-> 3024\u001b[0;31m             \u001b[0mindexer\u001b[0m \u001b[0;34m=\u001b[0m \u001b[0mself\u001b[0m\u001b[0;34m.\u001b[0m\u001b[0mcolumns\u001b[0m\u001b[0;34m.\u001b[0m\u001b[0mget_loc\u001b[0m\u001b[0;34m(\u001b[0m\u001b[0mkey\u001b[0m\u001b[0;34m)\u001b[0m\u001b[0;34m\u001b[0m\u001b[0;34m\u001b[0m\u001b[0m\n\u001b[0m\u001b[1;32m   3025\u001b[0m             \u001b[0;32mif\u001b[0m \u001b[0mis_integer\u001b[0m\u001b[0;34m(\u001b[0m\u001b[0mindexer\u001b[0m\u001b[0;34m)\u001b[0m\u001b[0;34m:\u001b[0m\u001b[0;34m\u001b[0m\u001b[0;34m\u001b[0m\u001b[0m\n\u001b[1;32m   3026\u001b[0m                 \u001b[0mindexer\u001b[0m \u001b[0;34m=\u001b[0m \u001b[0;34m[\u001b[0m\u001b[0mindexer\u001b[0m\u001b[0;34m]\u001b[0m\u001b[0;34m\u001b[0m\u001b[0;34m\u001b[0m\u001b[0m\n",
      "\u001b[0;32m~/anaconda3/lib/python3.8/site-packages/pandas/core/indexes/base.py\u001b[0m in \u001b[0;36mget_loc\u001b[0;34m(self, key, method, tolerance)\u001b[0m\n\u001b[1;32m   3080\u001b[0m                 \u001b[0;32mreturn\u001b[0m \u001b[0mself\u001b[0m\u001b[0;34m.\u001b[0m\u001b[0m_engine\u001b[0m\u001b[0;34m.\u001b[0m\u001b[0mget_loc\u001b[0m\u001b[0;34m(\u001b[0m\u001b[0mcasted_key\u001b[0m\u001b[0;34m)\u001b[0m\u001b[0;34m\u001b[0m\u001b[0;34m\u001b[0m\u001b[0m\n\u001b[1;32m   3081\u001b[0m             \u001b[0;32mexcept\u001b[0m \u001b[0mKeyError\u001b[0m \u001b[0;32mas\u001b[0m \u001b[0merr\u001b[0m\u001b[0;34m:\u001b[0m\u001b[0;34m\u001b[0m\u001b[0;34m\u001b[0m\u001b[0m\n\u001b[0;32m-> 3082\u001b[0;31m                 \u001b[0;32mraise\u001b[0m \u001b[0mKeyError\u001b[0m\u001b[0;34m(\u001b[0m\u001b[0mkey\u001b[0m\u001b[0;34m)\u001b[0m \u001b[0;32mfrom\u001b[0m \u001b[0merr\u001b[0m\u001b[0;34m\u001b[0m\u001b[0;34m\u001b[0m\u001b[0m\n\u001b[0m\u001b[1;32m   3083\u001b[0m \u001b[0;34m\u001b[0m\u001b[0m\n\u001b[1;32m   3084\u001b[0m         \u001b[0;32mif\u001b[0m \u001b[0mtolerance\u001b[0m \u001b[0;32mis\u001b[0m \u001b[0;32mnot\u001b[0m \u001b[0;32mNone\u001b[0m\u001b[0;34m:\u001b[0m\u001b[0;34m\u001b[0m\u001b[0;34m\u001b[0m\u001b[0m\n",
      "\u001b[0;31mKeyError\u001b[0m: 'Date'"
     ]
    }
   ],
   "source": [
    "data['Date'] = data['Date'].apply(pd.to_datetime)"
   ]
  },
  {
   "cell_type": "code",
   "execution_count": 29,
   "metadata": {},
   "outputs": [
    {
     "name": "stdout",
     "output_type": "stream",
     "text": [
      "<class 'pandas.core.frame.DataFrame'>\n",
      "DatetimeIndex: 1259 entries, 2013-12-10 to 2018-12-10\n",
      "Data columns (total 6 columns):\n",
      " #   Column     Non-Null Count  Dtype  \n",
      "---  ------     --------------  -----  \n",
      " 0   Open       1259 non-null   float64\n",
      " 1   High       1259 non-null   float64\n",
      " 2   Low        1259 non-null   float64\n",
      " 3   Close      1259 non-null   float64\n",
      " 4   Adj Close  1259 non-null   float64\n",
      " 5   Volume     1259 non-null   int64  \n",
      "dtypes: float64(5), int64(1)\n",
      "memory usage: 68.9 KB\n"
     ]
    }
   ],
   "source": [
    "data.info()"
   ]
  },
  {
   "cell_type": "code",
   "execution_count": 11,
   "metadata": {},
   "outputs": [],
   "source": [
    "data.set_index('Date', inplace=True)"
   ]
  },
  {
   "cell_type": "code",
   "execution_count": 12,
   "metadata": {},
   "outputs": [
    {
     "data": {
      "text/html": [
       "<div>\n",
       "<style scoped>\n",
       "    .dataframe tbody tr th:only-of-type {\n",
       "        vertical-align: middle;\n",
       "    }\n",
       "\n",
       "    .dataframe tbody tr th {\n",
       "        vertical-align: top;\n",
       "    }\n",
       "\n",
       "    .dataframe thead th {\n",
       "        text-align: right;\n",
       "    }\n",
       "</style>\n",
       "<table border=\"1\" class=\"dataframe\">\n",
       "  <thead>\n",
       "    <tr style=\"text-align: right;\">\n",
       "      <th></th>\n",
       "      <th>Open</th>\n",
       "      <th>High</th>\n",
       "      <th>Low</th>\n",
       "      <th>Close</th>\n",
       "      <th>Adj Close</th>\n",
       "      <th>Volume</th>\n",
       "    </tr>\n",
       "    <tr>\n",
       "      <th>Date</th>\n",
       "      <th></th>\n",
       "      <th></th>\n",
       "      <th></th>\n",
       "      <th></th>\n",
       "      <th></th>\n",
       "      <th></th>\n",
       "    </tr>\n",
       "  </thead>\n",
       "  <tbody>\n",
       "    <tr>\n",
       "      <th>2013-12-10</th>\n",
       "      <td>80.511429</td>\n",
       "      <td>81.125717</td>\n",
       "      <td>80.171425</td>\n",
       "      <td>80.792854</td>\n",
       "      <td>72.205704</td>\n",
       "      <td>69567400</td>\n",
       "    </tr>\n",
       "    <tr>\n",
       "      <th>2013-12-11</th>\n",
       "      <td>81.000000</td>\n",
       "      <td>81.567146</td>\n",
       "      <td>79.955711</td>\n",
       "      <td>80.194283</td>\n",
       "      <td>71.670746</td>\n",
       "      <td>89929700</td>\n",
       "    </tr>\n",
       "    <tr>\n",
       "      <th>2013-12-12</th>\n",
       "      <td>80.305717</td>\n",
       "      <td>80.762856</td>\n",
       "      <td>80.004288</td>\n",
       "      <td>80.077141</td>\n",
       "      <td>71.566086</td>\n",
       "      <td>65572500</td>\n",
       "    </tr>\n",
       "    <tr>\n",
       "      <th>2013-12-13</th>\n",
       "      <td>80.407143</td>\n",
       "      <td>80.411430</td>\n",
       "      <td>79.095711</td>\n",
       "      <td>79.204285</td>\n",
       "      <td>70.785973</td>\n",
       "      <td>83205500</td>\n",
       "    </tr>\n",
       "    <tr>\n",
       "      <th>2013-12-16</th>\n",
       "      <td>79.288574</td>\n",
       "      <td>80.377144</td>\n",
       "      <td>79.287140</td>\n",
       "      <td>79.642860</td>\n",
       "      <td>71.177933</td>\n",
       "      <td>70648200</td>\n",
       "    </tr>\n",
       "  </tbody>\n",
       "</table>\n",
       "</div>"
      ],
      "text/plain": [
       "                 Open       High        Low      Close  Adj Close    Volume\n",
       "Date                                                                       \n",
       "2013-12-10  80.511429  81.125717  80.171425  80.792854  72.205704  69567400\n",
       "2013-12-11  81.000000  81.567146  79.955711  80.194283  71.670746  89929700\n",
       "2013-12-12  80.305717  80.762856  80.004288  80.077141  71.566086  65572500\n",
       "2013-12-13  80.407143  80.411430  79.095711  79.204285  70.785973  83205500\n",
       "2013-12-16  79.288574  80.377144  79.287140  79.642860  71.177933  70648200"
      ]
     },
     "execution_count": 12,
     "metadata": {},
     "output_type": "execute_result"
    }
   ],
   "source": [
    "data.head()"
   ]
  },
  {
   "cell_type": "code",
   "execution_count": 30,
   "metadata": {},
   "outputs": [
    {
     "data": {
      "text/plain": [
       "<AxesSubplot:xlabel='Date'>"
      ]
     },
     "execution_count": 30,
     "metadata": {},
     "output_type": "execute_result"
    },
    {
     "data": {
      "image/png": "[encoded data removed]",
      "text/plain": [
       "<Figure size 432x288 with 1 Axes>"
      ]
     },
     "metadata": {},
     "output_type": "display_data"
    }
   ],
   "source": [
    "data['Open'].plot()"
   ]
  },
  {
   "cell_type": "code",
   "execution_count": 32,
   "metadata": {},
   "outputs": [
    {
     "data": {
      "text/plain": [
       "<AxesSubplot:xlabel='Date'>"
      ]
     },
     "execution_count": 32,
     "metadata": {},
     "output_type": "execute_result"
    },
    {
     "data": {
      "image/png": "[encoded data removed]",
      "text/plain": [
       "<Figure size 864x576 with 1 Axes>"
      ]
     },
     "metadata": {},
     "output_type": "display_data"
    }
   ],
   "source": [
    "data['Open'].plot(figsize=(12 , 8))"
   ]
  },
  {
   "cell_type": "code",
   "execution_count": 15,
   "metadata": {},
   "outputs": [
    {
     "data": {
      "text/html": [
       "<div>\n",
       "<style scoped>\n",
       "    .dataframe tbody tr th:only-of-type {\n",
       "        vertical-align: middle;\n",
       "    }\n",
       "\n",
       "    .dataframe tbody tr th {\n",
       "        vertical-align: top;\n",
       "    }\n",
       "\n",
       "    .dataframe thead th {\n",
       "        text-align: right;\n",
       "    }\n",
       "</style>\n",
       "<table border=\"1\" class=\"dataframe\">\n",
       "  <thead>\n",
       "    <tr style=\"text-align: right;\">\n",
       "      <th></th>\n",
       "      <th>Open</th>\n",
       "      <th>High</th>\n",
       "      <th>Low</th>\n",
       "      <th>Close</th>\n",
       "      <th>Adj Close</th>\n",
       "      <th>Volume</th>\n",
       "    </tr>\n",
       "    <tr>\n",
       "      <th>Date</th>\n",
       "      <th></th>\n",
       "      <th></th>\n",
       "      <th></th>\n",
       "      <th></th>\n",
       "      <th></th>\n",
       "      <th></th>\n",
       "    </tr>\n",
       "  </thead>\n",
       "  <tbody>\n",
       "    <tr>\n",
       "      <th>2013-12-10</th>\n",
       "      <td>80.511429</td>\n",
       "      <td>81.125717</td>\n",
       "      <td>80.171425</td>\n",
       "      <td>80.792854</td>\n",
       "      <td>72.205704</td>\n",
       "      <td>69567400</td>\n",
       "    </tr>\n",
       "    <tr>\n",
       "      <th>2013-12-11</th>\n",
       "      <td>81.000000</td>\n",
       "      <td>81.567146</td>\n",
       "      <td>79.955711</td>\n",
       "      <td>80.194283</td>\n",
       "      <td>71.670746</td>\n",
       "      <td>89929700</td>\n",
       "    </tr>\n",
       "    <tr>\n",
       "      <th>2013-12-12</th>\n",
       "      <td>80.305717</td>\n",
       "      <td>80.762856</td>\n",
       "      <td>80.004288</td>\n",
       "      <td>80.077141</td>\n",
       "      <td>71.566086</td>\n",
       "      <td>65572500</td>\n",
       "    </tr>\n",
       "    <tr>\n",
       "      <th>2013-12-13</th>\n",
       "      <td>80.407143</td>\n",
       "      <td>80.411430</td>\n",
       "      <td>79.095711</td>\n",
       "      <td>79.204285</td>\n",
       "      <td>70.785973</td>\n",
       "      <td>83205500</td>\n",
       "    </tr>\n",
       "    <tr>\n",
       "      <th>2013-12-16</th>\n",
       "      <td>79.288574</td>\n",
       "      <td>80.377144</td>\n",
       "      <td>79.287140</td>\n",
       "      <td>79.642860</td>\n",
       "      <td>71.177933</td>\n",
       "      <td>70648200</td>\n",
       "    </tr>\n",
       "  </tbody>\n",
       "</table>\n",
       "</div>"
      ],
      "text/plain": [
       "                 Open       High        Low      Close  Adj Close    Volume\n",
       "Date                                                                       \n",
       "2013-12-10  80.511429  81.125717  80.171425  80.792854  72.205704  69567400\n",
       "2013-12-11  81.000000  81.567146  79.955711  80.194283  71.670746  89929700\n",
       "2013-12-12  80.305717  80.762856  80.004288  80.077141  71.566086  65572500\n",
       "2013-12-13  80.407143  80.411430  79.095711  79.204285  70.785973  83205500\n",
       "2013-12-16  79.288574  80.377144  79.287140  79.642860  71.177933  70648200"
      ]
     },
     "execution_count": 15,
     "metadata": {},
     "output_type": "execute_result"
    }
   ],
   "source": [
    "data.head()"
   ]
  },
  {
   "cell_type": "code",
   "execution_count": 33,
   "metadata": {},
   "outputs": [
    {
     "data": {
      "text/html": [
       "<div>\n",
       "<style scoped>\n",
       "    .dataframe tbody tr th:only-of-type {\n",
       "        vertical-align: middle;\n",
       "    }\n",
       "\n",
       "    .dataframe tbody tr th {\n",
       "        vertical-align: top;\n",
       "    }\n",
       "\n",
       "    .dataframe thead th {\n",
       "        text-align: right;\n",
       "    }\n",
       "</style>\n",
       "<table border=\"1\" class=\"dataframe\">\n",
       "  <thead>\n",
       "    <tr style=\"text-align: right;\">\n",
       "      <th></th>\n",
       "      <th>Open</th>\n",
       "      <th>High</th>\n",
       "      <th>Low</th>\n",
       "      <th>Close</th>\n",
       "      <th>Adj Close</th>\n",
       "      <th>Volume</th>\n",
       "    </tr>\n",
       "    <tr>\n",
       "      <th>Date</th>\n",
       "      <th></th>\n",
       "      <th></th>\n",
       "      <th></th>\n",
       "      <th></th>\n",
       "      <th></th>\n",
       "      <th></th>\n",
       "    </tr>\n",
       "  </thead>\n",
       "  <tbody>\n",
       "    <tr>\n",
       "      <th>2013-12-31</th>\n",
       "      <td>79.928287</td>\n",
       "      <td>80.381809</td>\n",
       "      <td>79.317333</td>\n",
       "      <td>79.770570</td>\n",
       "      <td>71.292083</td>\n",
       "      <td>7.739415e+07</td>\n",
       "    </tr>\n",
       "    <tr>\n",
       "      <th>2014-12-31</th>\n",
       "      <td>92.219830</td>\n",
       "      <td>93.012664</td>\n",
       "      <td>91.475538</td>\n",
       "      <td>92.264654</td>\n",
       "      <td>83.502215</td>\n",
       "      <td>6.315273e+07</td>\n",
       "    </tr>\n",
       "    <tr>\n",
       "      <th>2015-12-31</th>\n",
       "      <td>120.175754</td>\n",
       "      <td>121.244524</td>\n",
       "      <td>118.863095</td>\n",
       "      <td>120.040000</td>\n",
       "      <td>110.497435</td>\n",
       "      <td>5.184940e+07</td>\n",
       "    </tr>\n",
       "    <tr>\n",
       "      <th>2016-12-31</th>\n",
       "      <td>104.507778</td>\n",
       "      <td>105.427183</td>\n",
       "      <td>103.690278</td>\n",
       "      <td>104.604008</td>\n",
       "      <td>98.284917</td>\n",
       "      <td>3.842253e+07</td>\n",
       "    </tr>\n",
       "    <tr>\n",
       "      <th>2017-12-31</th>\n",
       "      <td>150.444900</td>\n",
       "      <td>151.406056</td>\n",
       "      <td>149.487650</td>\n",
       "      <td>150.551075</td>\n",
       "      <td>144.124318</td>\n",
       "      <td>2.713457e+07</td>\n",
       "    </tr>\n",
       "    <tr>\n",
       "      <th>2018-12-31</th>\n",
       "      <td>190.730000</td>\n",
       "      <td>192.603924</td>\n",
       "      <td>188.888861</td>\n",
       "      <td>190.741224</td>\n",
       "      <td>185.319195</td>\n",
       "      <td>3.320534e+07</td>\n",
       "    </tr>\n",
       "  </tbody>\n",
       "</table>\n",
       "</div>"
      ],
      "text/plain": [
       "                  Open        High         Low       Close   Adj Close  \\\n",
       "Date                                                                     \n",
       "2013-12-31   79.928287   80.381809   79.317333   79.770570   71.292083   \n",
       "2014-12-31   92.219830   93.012664   91.475538   92.264654   83.502215   \n",
       "2015-12-31  120.175754  121.244524  118.863095  120.040000  110.497435   \n",
       "2016-12-31  104.507778  105.427183  103.690278  104.604008   98.284917   \n",
       "2017-12-31  150.444900  151.406056  149.487650  150.551075  144.124318   \n",
       "2018-12-31  190.730000  192.603924  188.888861  190.741224  185.319195   \n",
       "\n",
       "                  Volume  \n",
       "Date                      \n",
       "2013-12-31  7.739415e+07  \n",
       "2014-12-31  6.315273e+07  \n",
       "2015-12-31  5.184940e+07  \n",
       "2016-12-31  3.842253e+07  \n",
       "2017-12-31  2.713457e+07  \n",
       "2018-12-31  3.320534e+07  "
      ]
     },
     "execution_count": 33,
     "metadata": {},
     "output_type": "execute_result"
    }
   ],
   "source": [
    "data.resample(rule='Y').mean()"
   ]
  },
  {
   "cell_type": "code",
   "execution_count": 36,
   "metadata": {},
   "outputs": [
    {
     "data": {
      "text/plain": [
       "<AxesSubplot:xlabel='Date'>"
      ]
     },
     "execution_count": 36,
     "metadata": {},
     "output_type": "execute_result"
    },
    {
     "data": {
      "image/png": "[encoded data removed]",
      "text/plain": [
       "<Figure size 432x288 with 1 Axes>"
      ]
     },
     "metadata": {},
     "output_type": "display_data"
    }
   ],
   "source": [
    "data.resample(rule='M').mean()['Open'].plot()"
   ]
  },
  {
   "cell_type": "code",
   "execution_count": 18,
   "metadata": {},
   "outputs": [
    {
     "data": {
      "text/plain": [
       "<AxesSubplot:xlabel='Date'>"
      ]
     },
     "execution_count": 18,
     "metadata": {},
     "output_type": "execute_result"
    },
    {
     "data": {
      "image/png": "[encoded data removed]",
      "text/plain": [
       "<Figure size 432x288 with 1 Axes>"
      ]
     },
     "metadata": {
      "needs_background": "light"
     },
     "output_type": "display_data"
    }
   ],
   "source": [
    "data.resample(rule='M').mean()['Volume'].plot()"
   ]
  },
  {
   "cell_type": "code",
   "execution_count": 19,
   "metadata": {},
   "outputs": [
    {
     "data": {
      "text/plain": [
       "<AxesSubplot:xlabel='Date'>"
      ]
     },
     "execution_count": 19,
     "metadata": {},
     "output_type": "execute_result"
    },
    {
     "data": {
      "image/png": "[encoded data removed]",
      "text/plain": [
       "<Figure size 432x288 with 1 Axes>"
      ]
     },
     "metadata": {
      "needs_background": "light"
     },
     "output_type": "display_data"
    }
   ],
   "source": [
    "data.resample(rule='A').mean()['Volume'].plot()"
   ]
  },
  {
   "cell_type": "code",
   "execution_count": 20,
   "metadata": {},
   "outputs": [
    {
     "data": {
      "text/plain": [
       "<AxesSubplot:xlabel='Date'>"
      ]
     },
     "execution_count": 20,
     "metadata": {},
     "output_type": "execute_result"
    },
    {
     "data": {
      "image/png": "[encoded data removed]",
      "text/plain": [
       "<Figure size 432x288 with 1 Axes>"
      ]
     },
     "metadata": {
      "needs_background": "light"
     },
     "output_type": "display_data"
    }
   ],
   "source": [
    "data.resample(rule='Q').max()['Open'].plot()"
   ]
  },
  {
   "cell_type": "code",
   "execution_count": 39,
   "metadata": {},
   "outputs": [
    {
     "data": {
      "text/html": [
       "<div>\n",
       "<style scoped>\n",
       "    .dataframe tbody tr th:only-of-type {\n",
       "        vertical-align: middle;\n",
       "    }\n",
       "\n",
       "    .dataframe tbody tr th {\n",
       "        vertical-align: top;\n",
       "    }\n",
       "\n",
       "    .dataframe thead th {\n",
       "        text-align: right;\n",
       "    }\n",
       "</style>\n",
       "<table border=\"1\" class=\"dataframe\">\n",
       "  <thead>\n",
       "    <tr style=\"text-align: right;\">\n",
       "      <th></th>\n",
       "      <th>Open</th>\n",
       "      <th>High</th>\n",
       "      <th>Low</th>\n",
       "      <th>Close</th>\n",
       "      <th>Adj Close</th>\n",
       "      <th>Volume</th>\n",
       "    </tr>\n",
       "    <tr>\n",
       "      <th>Date</th>\n",
       "      <th></th>\n",
       "      <th></th>\n",
       "      <th></th>\n",
       "      <th></th>\n",
       "      <th></th>\n",
       "      <th></th>\n",
       "    </tr>\n",
       "  </thead>\n",
       "  <tbody>\n",
       "    <tr>\n",
       "      <th>2013-12-31</th>\n",
       "      <td>79.928287</td>\n",
       "      <td>80.381809</td>\n",
       "      <td>79.317333</td>\n",
       "      <td>79.770570</td>\n",
       "      <td>71.292083</td>\n",
       "      <td>7.739415e+07</td>\n",
       "    </tr>\n",
       "    <tr>\n",
       "      <th>2014-03-31</th>\n",
       "      <td>76.099017</td>\n",
       "      <td>76.697822</td>\n",
       "      <td>75.518197</td>\n",
       "      <td>76.086370</td>\n",
       "      <td>68.246010</td>\n",
       "      <td>8.052467e+07</td>\n",
       "    </tr>\n",
       "    <tr>\n",
       "      <th>2014-06-30</th>\n",
       "      <td>84.989161</td>\n",
       "      <td>85.653084</td>\n",
       "      <td>84.424059</td>\n",
       "      <td>85.117529</td>\n",
       "      <td>76.790276</td>\n",
       "      <td>6.745424e+07</td>\n",
       "    </tr>\n",
       "    <tr>\n",
       "      <th>2014-09-30</th>\n",
       "      <td>98.127500</td>\n",
       "      <td>98.958125</td>\n",
       "      <td>97.309687</td>\n",
       "      <td>98.163437</td>\n",
       "      <td>89.014902</td>\n",
       "      <td>5.466536e+07</td>\n",
       "    </tr>\n",
       "    <tr>\n",
       "      <th>2014-12-31</th>\n",
       "      <td>108.795000</td>\n",
       "      <td>109.861875</td>\n",
       "      <td>107.792031</td>\n",
       "      <td>108.821250</td>\n",
       "      <td>99.137665</td>\n",
       "      <td>5.084817e+07</td>\n",
       "    </tr>\n",
       "    <tr>\n",
       "      <th>2015-03-31</th>\n",
       "      <td>120.999836</td>\n",
       "      <td>122.056230</td>\n",
       "      <td>119.556066</td>\n",
       "      <td>120.777049</td>\n",
       "      <td>110.494959</td>\n",
       "      <td>5.869575e+07</td>\n",
       "    </tr>\n",
       "    <tr>\n",
       "      <th>2015-06-30</th>\n",
       "      <td>128.074445</td>\n",
       "      <td>128.968889</td>\n",
       "      <td>127.036191</td>\n",
       "      <td>127.938095</td>\n",
       "      <td>117.503400</td>\n",
       "      <td>4.490308e+07</td>\n",
       "    </tr>\n",
       "    <tr>\n",
       "      <th>2015-09-30</th>\n",
       "      <td>117.428125</td>\n",
       "      <td>118.755156</td>\n",
       "      <td>115.852969</td>\n",
       "      <td>117.303438</td>\n",
       "      <td>108.199684</td>\n",
       "      <td>6.049448e+07</td>\n",
       "    </tr>\n",
       "    <tr>\n",
       "      <th>2015-12-31</th>\n",
       "      <td>114.362656</td>\n",
       "      <td>115.356563</td>\n",
       "      <td>113.167343</td>\n",
       "      <td>114.299375</td>\n",
       "      <td>105.901049</td>\n",
       "      <td>4.351669e+07</td>\n",
       "    </tr>\n",
       "    <tr>\n",
       "      <th>2016-03-31</th>\n",
       "      <td>99.562459</td>\n",
       "      <td>100.677541</td>\n",
       "      <td>98.474754</td>\n",
       "      <td>99.655082</td>\n",
       "      <td>92.810623</td>\n",
       "      <td>4.637312e+07</td>\n",
       "    </tr>\n",
       "    <tr>\n",
       "      <th>2016-06-30</th>\n",
       "      <td>99.399688</td>\n",
       "      <td>100.266250</td>\n",
       "      <td>98.582969</td>\n",
       "      <td>99.401250</td>\n",
       "      <td>93.092495</td>\n",
       "      <td>3.988364e+07</td>\n",
       "    </tr>\n",
       "    <tr>\n",
       "      <th>2016-09-30</th>\n",
       "      <td>105.700156</td>\n",
       "      <td>106.518125</td>\n",
       "      <td>105.104687</td>\n",
       "      <td>105.866094</td>\n",
       "      <td>99.742332</td>\n",
       "      <td>3.568631e+07</td>\n",
       "    </tr>\n",
       "    <tr>\n",
       "      <th>2016-12-31</th>\n",
       "      <td>113.273968</td>\n",
       "      <td>114.160635</td>\n",
       "      <td>112.491746</td>\n",
       "      <td>113.399048</td>\n",
       "      <td>107.379715</td>\n",
       "      <td>3.201970e+07</td>\n",
       "    </tr>\n",
       "    <tr>\n",
       "      <th>2017-03-31</th>\n",
       "      <td>131.317097</td>\n",
       "      <td>132.165161</td>\n",
       "      <td>130.853548</td>\n",
       "      <td>131.712580</td>\n",
       "      <td>125.289526</td>\n",
       "      <td>2.741482e+07</td>\n",
       "    </tr>\n",
       "    <tr>\n",
       "      <th>2017-06-30</th>\n",
       "      <td>147.961112</td>\n",
       "      <td>148.820000</td>\n",
       "      <td>146.879841</td>\n",
       "      <td>147.875396</td>\n",
       "      <td>141.237764</td>\n",
       "      <td>2.716610e+07</td>\n",
       "    </tr>\n",
       "    <tr>\n",
       "      <th>2017-09-30</th>\n",
       "      <td>155.236350</td>\n",
       "      <td>156.260477</td>\n",
       "      <td>153.976509</td>\n",
       "      <td>155.169048</td>\n",
       "      <td>148.800840</td>\n",
       "      <td>2.799135e+07</td>\n",
       "    </tr>\n",
       "    <tr>\n",
       "      <th>2017-12-31</th>\n",
       "      <td>166.961428</td>\n",
       "      <td>168.073175</td>\n",
       "      <td>165.944921</td>\n",
       "      <td>167.148254</td>\n",
       "      <td>160.870175</td>\n",
       "      <td>2.597045e+07</td>\n",
       "    </tr>\n",
       "    <tr>\n",
       "      <th>2018-03-31</th>\n",
       "      <td>172.273606</td>\n",
       "      <td>174.097213</td>\n",
       "      <td>170.616067</td>\n",
       "      <td>172.191312</td>\n",
       "      <td>166.367404</td>\n",
       "      <td>3.772625e+07</td>\n",
       "    </tr>\n",
       "    <tr>\n",
       "      <th>2018-06-30</th>\n",
       "      <td>181.206876</td>\n",
       "      <td>182.712500</td>\n",
       "      <td>179.920469</td>\n",
       "      <td>181.396563</td>\n",
       "      <td>175.958851</td>\n",
       "      <td>2.835555e+07</td>\n",
       "    </tr>\n",
       "    <tr>\n",
       "      <th>2018-09-30</th>\n",
       "      <td>208.025556</td>\n",
       "      <td>209.894127</td>\n",
       "      <td>206.520952</td>\n",
       "      <td>208.300001</td>\n",
       "      <td>202.807342</td>\n",
       "      <td>2.814258e+07</td>\n",
       "    </tr>\n",
       "    <tr>\n",
       "      <th>2018-12-31</th>\n",
       "      <td>203.907551</td>\n",
       "      <td>206.332041</td>\n",
       "      <td>200.680612</td>\n",
       "      <td>203.463674</td>\n",
       "      <td>198.653237</td>\n",
       "      <td>4.042097e+07</td>\n",
       "    </tr>\n",
       "  </tbody>\n",
       "</table>\n",
       "</div>"
      ],
      "text/plain": [
       "                  Open        High         Low       Close   Adj Close  \\\n",
       "Date                                                                     \n",
       "2013-12-31   79.928287   80.381809   79.317333   79.770570   71.292083   \n",
       "2014-03-31   76.099017   76.697822   75.518197   76.086370   68.246010   \n",
       "2014-06-30   84.989161   85.653084   84.424059   85.117529   76.790276   \n",
       "2014-09-30   98.127500   98.958125   97.309687   98.163437   89.014902   \n",
       "2014-12-31  108.795000  109.861875  107.792031  108.821250   99.137665   \n",
       "2015-03-31  120.999836  122.056230  119.556066  120.777049  110.494959   \n",
       "2015-06-30  128.074445  128.968889  127.036191  127.938095  117.503400   \n",
       "2015-09-30  117.428125  118.755156  115.852969  117.303438  108.199684   \n",
       "2015-12-31  114.362656  115.356563  113.167343  114.299375  105.901049   \n",
       "2016-03-31   99.562459  100.677541   98.474754   99.655082   92.810623   \n",
       "2016-06-30   99.399688  100.266250   98.582969   99.401250   93.092495   \n",
       "2016-09-30  105.700156  106.518125  105.104687  105.866094   99.742332   \n",
       "2016-12-31  113.273968  114.160635  112.491746  113.399048  107.379715   \n",
       "2017-03-31  131.317097  132.165161  130.853548  131.712580  125.289526   \n",
       "2017-06-30  147.961112  148.820000  146.879841  147.875396  141.237764   \n",
       "2017-09-30  155.236350  156.260477  153.976509  155.169048  148.800840   \n",
       "2017-12-31  166.961428  168.073175  165.944921  167.148254  160.870175   \n",
       "2018-03-31  172.273606  174.097213  170.616067  172.191312  166.367404   \n",
       "2018-06-30  181.206876  182.712500  179.920469  181.396563  175.958851   \n",
       "2018-09-30  208.025556  209.894127  206.520952  208.300001  202.807342   \n",
       "2018-12-31  203.907551  206.332041  200.680612  203.463674  198.653237   \n",
       "\n",
       "                  Volume  \n",
       "Date                      \n",
       "2013-12-31  7.739415e+07  \n",
       "2014-03-31  8.052467e+07  \n",
       "2014-06-30  6.745424e+07  \n",
       "2014-09-30  5.466536e+07  \n",
       "2014-12-31  5.084817e+07  \n",
       "2015-03-31  5.869575e+07  \n",
       "2015-06-30  4.490308e+07  \n",
       "2015-09-30  6.049448e+07  \n",
       "2015-12-31  4.351669e+07  \n",
       "2016-03-31  4.637312e+07  \n",
       "2016-06-30  3.988364e+07  \n",
       "2016-09-30  3.568631e+07  \n",
       "2016-12-31  3.201970e+07  \n",
       "2017-03-31  2.741482e+07  \n",
       "2017-06-30  2.716610e+07  \n",
       "2017-09-30  2.799135e+07  \n",
       "2017-12-31  2.597045e+07  \n",
       "2018-03-31  3.772625e+07  \n",
       "2018-06-30  2.835555e+07  \n",
       "2018-09-30  2.814258e+07  \n",
       "2018-12-31  4.042097e+07  "
      ]
     },
     "execution_count": 39,
     "metadata": {},
     "output_type": "execute_result"
    }
   ],
   "source": [
    "sns.set_style('whitegrid')\n",
    "data.resample('Q').mean()['Open'].plot(kind='b')"
   ]
  },
  {
   "cell_type": "code",
   "execution_count": null,
   "metadata": {},
   "outputs": [],
   "source": []
  }
 ],
 "metadata": {
  "kernelspec": {
   "display_name": "Python 3",
   "language": "python",
   "name": "python3"
  },
  "language_info": {
   "codemirror_mode": {
    "name": "ipython",
    "version": 3
   },
   "file_extension": ".py",
   "mimetype": "text/x-python",
   "name": "python",
   "nbconvert_exporter": "python",
   "pygments_lexer": "ipython3",
   "version": "3.8.8"
  }
 },
 "nbformat": 4,
 "nbformat_minor": 4
}
