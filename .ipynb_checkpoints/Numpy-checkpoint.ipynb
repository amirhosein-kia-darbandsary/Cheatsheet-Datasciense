{
 "cells": [
  {
   "cell_type": "code",
   "execution_count": 1,
   "id": "f779ef8a",
   "metadata": {},
   "outputs": [],
   "source": [
    "import numpy as np \n",
    "import pandas as pd"
   ]
  },
  {
   "cell_type": "code",
   "execution_count": 2,
   "id": "a61e8e81",
   "metadata": {},
   "outputs": [],
   "source": [
    "matris1 = [\n",
    "    [1,2,4],\n",
    "    [3,4,7],\n",
    "    [9,8,7]\n",
    "]\n",
    "matris1 = np.array(matris1)"
   ]
  },
  {
   "cell_type": "code",
   "execution_count": 3,
   "id": "75648eb7",
   "metadata": {},
   "outputs": [],
   "source": [
    "matris2 = np.zeros((3 , 3 ))"
   ]
  },
  {
   "cell_type": "code",
   "execution_count": 4,
   "id": "dbaab2c5",
   "metadata": {},
   "outputs": [],
   "source": [
    "data1 = {\n",
    "    'FullName':\"amirhosein\",\n",
    "    'family':\"kia\",\n",
    "    \"age\":20\n",
    "}\n",
    "data2 = {\n",
    "    'FullName':\"ali\",\n",
    "    'family':\"kia2\",\n",
    "    \"age\":22\n",
    "}\n",
    "data3 = {\n",
    "    'FullName':\"saeed\",\n",
    "    'family':\"kia3\",\n",
    "    \"age\":24\n",
    "}"
   ]
  },
  {
   "cell_type": "code",
   "execution_count": 9,
   "id": "e228f286",
   "metadata": {},
   "outputs": [
    {
     "data": {
      "text/html": [
       "<div>\n",
       "<style scoped>\n",
       "    .dataframe tbody tr th:only-of-type {\n",
       "        vertical-align: middle;\n",
       "    }\n",
       "\n",
       "    .dataframe tbody tr th {\n",
       "        vertical-align: top;\n",
       "    }\n",
       "\n",
       "    .dataframe thead th {\n",
       "        text-align: right;\n",
       "    }\n",
       "</style>\n",
       "<table border=\"1\" class=\"dataframe\">\n",
       "  <thead>\n",
       "    <tr style=\"text-align: right;\">\n",
       "      <th></th>\n",
       "      <th>FullName</th>\n",
       "      <th>family</th>\n",
       "      <th>age</th>\n",
       "    </tr>\n",
       "  </thead>\n",
       "  <tbody>\n",
       "    <tr>\n",
       "      <th>r1</th>\n",
       "      <td>amirhosein</td>\n",
       "      <td>kia</td>\n",
       "      <td>20</td>\n",
       "    </tr>\n",
       "    <tr>\n",
       "      <th>r2</th>\n",
       "      <td>ali</td>\n",
       "      <td>kia2</td>\n",
       "      <td>22</td>\n",
       "    </tr>\n",
       "    <tr>\n",
       "      <th>r3</th>\n",
       "      <td>saeed</td>\n",
       "      <td>kia3</td>\n",
       "      <td>24</td>\n",
       "    </tr>\n",
       "  </tbody>\n",
       "</table>\n",
       "</div>"
      ],
      "text/plain": [
       "      FullName family  age\n",
       "r1  amirhosein    kia   20\n",
       "r2         ali   kia2   22\n",
       "r3       saeed   kia3   24"
      ]
     },
     "execution_count": 9,
     "metadata": {},
     "output_type": "execute_result"
    }
   ],
   "source": [
    " df = pd.DataFrame( (data1 , data2 , data3) , ['r1' , 'r2' , 'r3'])\n",
    "df"
   ]
  },
  {
   "cell_type": "code",
   "execution_count": 13,
   "id": "661da5b2",
   "metadata": {},
   "outputs": [
    {
     "data": {
      "text/html": [
       "<div>\n",
       "<style scoped>\n",
       "    .dataframe tbody tr th:only-of-type {\n",
       "        vertical-align: middle;\n",
       "    }\n",
       "\n",
       "    .dataframe tbody tr th {\n",
       "        vertical-align: top;\n",
       "    }\n",
       "\n",
       "    .dataframe thead th {\n",
       "        text-align: right;\n",
       "    }\n",
       "</style>\n",
       "<table border=\"1\" class=\"dataframe\">\n",
       "  <thead>\n",
       "    <tr style=\"text-align: right;\">\n",
       "      <th></th>\n",
       "      <th>family</th>\n",
       "    </tr>\n",
       "  </thead>\n",
       "  <tbody>\n",
       "    <tr>\n",
       "      <th>r1</th>\n",
       "      <td>kia</td>\n",
       "    </tr>\n",
       "    <tr>\n",
       "      <th>r2</th>\n",
       "      <td>kia2</td>\n",
       "    </tr>\n",
       "    <tr>\n",
       "      <th>r3</th>\n",
       "      <td>kia3</td>\n",
       "    </tr>\n",
       "  </tbody>\n",
       "</table>\n",
       "</div>"
      ],
      "text/plain": [
       "   family\n",
       "r1    kia\n",
       "r2   kia2\n",
       "r3   kia3"
      ]
     },
     "execution_count": 13,
     "metadata": {},
     "output_type": "execute_result"
    }
   ],
   "source": [
    "df.loc[: , ['family']]"
   ]
  },
  {
   "cell_type": "code",
   "execution_count": null,
   "id": "b6776c57",
   "metadata": {},
   "outputs": [],
   "source": []
  }
 ],
 "metadata": {
  "kernelspec": {
   "display_name": "Python 3",
   "language": "python",
   "name": "python3"
  },
  "language_info": {
   "codemirror_mode": {
    "name": "ipython",
    "version": 3
   },
   "file_extension": ".py",
   "mimetype": "text/x-python",
   "name": "python",
   "nbconvert_exporter": "python",
   "pygments_lexer": "ipython3",
   "version": "3.8.8"
  }
 },
 "nbformat": 4,
 "nbformat_minor": 5
}
