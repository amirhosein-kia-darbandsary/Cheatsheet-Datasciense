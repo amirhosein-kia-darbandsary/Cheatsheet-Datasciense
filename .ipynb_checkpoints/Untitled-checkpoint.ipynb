{
 "cells": [
  {
   "cell_type": "code",
   "execution_count": 1,
   "id": "56275e99",
   "metadata": {},
   "outputs": [],
   "source": [
    "import numpy as np \n",
    "import pandas as pd \n",
    "from matplotlib import pyplot as plt \n",
    "import seaborn as sns\n",
    "sns.set_style('dark')\n"
   ]
  },
  {
   "cell_type": "code",
   "execution_count": null,
   "id": "e2006729",
   "metadata": {},
   "outputs": [],
   "source": [
    "data = pd.read_csv('./NewDatasets/kc_house_data.csv')\n",
    "data.shap()\n"
   ]
  },
  {
   "cell_type": "code",
   "execution_count": null,
   "id": "cf23f8e0",
   "metadata": {},
   "outputs": [],
   "source": [
    "from sklearn.impute import SimpleImputer\n",
    "si = SimpleImputer(missing_values=0 , strategy='mean')\n",
    "si.fit_transform([data.iloc[: , 15 ]])\n",
    "data['yr_renovated'] "
   ]
  },
  {
   "cell_type": "code",
   "execution_count": null,
   "id": "f5f7cc86",
   "metadata": {},
   "outputs": [],
   "source": [
    "X = data.iloc[: , 3:]\n",
    "y = data.price\n",
    "from sklearn.model_selection import train_test_split\n",
    "from sklearn.metrics import mean_absolute_error , r2_score"
   ]
  },
  {
   "cell_type": "code",
   "execution_count": null,
   "id": "8366ab16",
   "metadata": {},
   "outputs": [],
   "source": [
    "x_train  , x_test , y_train , y_test = train_test_split(X , y)\n",
    "from sklearn.linear_model import LinearRegression\n"
   ]
  },
  {
   "cell_type": "code",
   "execution_count": null,
   "id": "9b6fbe5d",
   "metadata": {},
   "outputs": [],
   "source": [
    "lr = LinearRegression()\n",
    "lr.fit(x_train , y_train)"
   ]
  },
  {
   "cell_type": "code",
   "execution_count": null,
   "id": "d2ef786e",
   "metadata": {},
   "outputs": [],
   "source": [
    "Y_pred = lr.predict(x_test)\n",
    "mean_absolute_error(y_test , Y_pred)"
   ]
  },
  {
   "cell_type": "code",
   "execution_count": null,
   "id": "9836683b",
   "metadata": {},
   "outputs": [],
   "source": [
    "r2_score(y_test , Y_pred)"
   ]
  },
  {
   "cell_type": "code",
   "execution_count": null,
   "id": "fd48fa79",
   "metadata": {},
   "outputs": [],
   "source": []
  },
  {
   "cell_type": "code",
   "execution_count": null,
   "id": "749e1a42",
   "metadata": {},
   "outputs": [],
   "source": []
  }
 ],
 "metadata": {
  "kernelspec": {
   "display_name": "Python 3",
   "language": "python",
   "name": "python3"
  },
  "language_info": {
   "codemirror_mode": {
    "name": "ipython",
    "version": 3
   },
   "file_extension": ".py",
   "mimetype": "text/x-python",
   "name": "python",
   "nbconvert_exporter": "python",
   "pygments_lexer": "ipython3",
   "version": "3.8.8"
  }
 },
 "nbformat": 4,
 "nbformat_minor": 5
}
