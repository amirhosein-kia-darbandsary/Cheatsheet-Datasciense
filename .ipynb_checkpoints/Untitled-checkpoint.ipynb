{
 "cells": [
  {
   "cell_type": "code",
   "execution_count": null,
   "id": "80c8f450",
   "metadata": {},
   "outputs": [],
   "source": [
    "import numpy as np\n",
    "import pandas as pd \n",
    "from scipy import stats\n",
    "from matplotlib import pyplot as plt \n",
    "import seaborn as sns "
   ]
  },
  {
   "cell_type": "code",
   "execution_count": null,
   "id": "f980f4df",
   "metadata": {},
   "outputs": [],
   "source": [
    "data = pd.read_csv('./flights.csv')"
   ]
  },
  {
   "cell_type": "code",
   "execution_count": null,
   "id": "ee66f932",
   "metadata": {},
   "outputs": [],
   "source": [
    "normal_data = stat"
   ]
  }
 ],
 "metadata": {
  "kernelspec": {
   "display_name": "Python 3",
   "language": "python",
   "name": "python3"
  },
  "language_info": {
   "codemirror_mode": {
    "name": "ipython",
    "version": 3
   },
   "file_extension": ".py",
   "mimetype": "text/x-python",
   "name": "python",
   "nbconvert_exporter": "python",
   "pygments_lexer": "ipython3",
   "version": "3.8.8"
  }
 },
 "nbformat": 4,
 "nbformat_minor": 5
}
