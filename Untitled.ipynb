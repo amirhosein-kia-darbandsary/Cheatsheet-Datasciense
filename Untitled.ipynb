{
 "cells": [
  {
   "cell_type": "code",
   "execution_count": 119,
   "id": "4a9729c4",
   "metadata": {},
   "outputs": [],
   "source": [
    "import numpy as np \n",
    "import pandas as pd\n",
    "import seaborn as sns \n",
    "from matplotlib import pyplot as plt\n",
    "from sklearn import datasets\n",
    "sns.set_style('dark')"
   ]
  },
  {
   "cell_type": "code",
   "execution_count": 120,
   "id": "8fc5c27c",
   "metadata": {},
   "outputs": [],
   "source": [
    "data = datasets.load_digits()\n",
    "X = data.images\n",
    "Y = data.target\n",
    "X = X.reshape(1797 , -1)"
   ]
  },
  {
   "cell_type": "code",
   "execution_count": 121,
   "id": "08bf7be0",
   "metadata": {},
   "outputs": [
    {
     "data": {
      "text/plain": [
       "SVC()"
      ]
     },
     "execution_count": 121,
     "metadata": {},
     "output_type": "execute_result"
    }
   ],
   "source": [
    "from sklearn.svm import SVC\n",
    "SvcData = SVC()\n",
    "SvcData.fit(X[:1000] , Y[:1000])"
   ]
  },
  {
   "cell_type": "code",
   "execution_count": 122,
   "id": "4a916c12",
   "metadata": {},
   "outputs": [],
   "source": [
    "p = SvcData.predict(X[1000:])\n",
    "e = Y[1000:]"
   ]
  },
  {
   "cell_type": "code",
   "execution_count": 123,
   "id": "4a19d019",
   "metadata": {},
   "outputs": [
    {
     "data": {
      "text/plain": [
       "'              precision    recall  f1-score   support\\n\\n           0       0.99      0.99      0.99        79\\n           1       0.96      0.97      0.97        79\\n           2       0.97      1.00      0.99        75\\n           3       0.85      0.97      0.91        69\\n           4       0.95      0.99      0.97        80\\n           5       0.99      0.92      0.95        88\\n           6       0.99      0.99      0.99        80\\n           7       0.99      0.94      0.96        84\\n           8       0.96      0.92      0.94        79\\n           9       0.95      0.92      0.93        84\\n\\n    accuracy                           0.96       797\\n   macro avg       0.96      0.96      0.96       797\\nweighted avg       0.96      0.96      0.96       797\\n'"
      ]
     },
     "execution_count": 123,
     "metadata": {},
     "output_type": "execute_result"
    }
   ],
   "source": [
    "from sklearn import metrics\n",
    "metrics.classification_report(p , e)"
   ]
  },
  {
   "cell_type": "code",
   "execution_count": 124,
   "id": "2ee6706b",
   "metadata": {},
   "outputs": [
    {
     "name": "stdout",
     "output_type": "stream",
     "text": [
      "              precision    recall  f1-score   support\n",
      "\n",
      "           0       0.99      0.99      0.99        79\n",
      "           1       0.96      0.97      0.97        79\n",
      "           2       0.97      1.00      0.99        75\n",
      "           3       0.85      0.97      0.91        69\n",
      "           4       0.95      0.99      0.97        80\n",
      "           5       0.99      0.92      0.95        88\n",
      "           6       0.99      0.99      0.99        80\n",
      "           7       0.99      0.94      0.96        84\n",
      "           8       0.96      0.92      0.94        79\n",
      "           9       0.95      0.92      0.93        84\n",
      "\n",
      "    accuracy                           0.96       797\n",
      "   macro avg       0.96      0.96      0.96       797\n",
      "weighted avg       0.96      0.96      0.96       797\n",
      "\n"
     ]
    }
   ],
   "source": [
    "print(metrics.classification_report(p , e))"
   ]
  },
  {
   "cell_type": "code",
   "execution_count": 125,
   "id": "ad518a0b",
   "metadata": {},
   "outputs": [
    {
     "data": {
      "text/plain": [
       "array([[78,  0,  1,  0,  0,  0,  0,  0,  0,  0],\n",
       "       [ 0, 77,  0,  0,  0,  0,  1,  0,  1,  0],\n",
       "       [ 0,  0, 75,  0,  0,  0,  0,  0,  0,  0],\n",
       "       [ 0,  0,  1, 67,  0,  0,  0,  0,  0,  1],\n",
       "       [ 1,  0,  0,  0, 79,  0,  0,  0,  0,  0],\n",
       "       [ 0,  0,  0,  3,  0, 81,  0,  1,  1,  2],\n",
       "       [ 0,  0,  0,  0,  0,  1, 79,  0,  0,  0],\n",
       "       [ 0,  0,  0,  4,  0,  0,  0, 79,  0,  1],\n",
       "       [ 0,  1,  0,  5,  0,  0,  0,  0, 73,  0],\n",
       "       [ 0,  2,  0,  0,  4,  0,  0,  0,  1, 77]])"
      ]
     },
     "execution_count": 125,
     "metadata": {},
     "output_type": "execute_result"
    }
   ],
   "source": [
    "metrics.confusion_matrix(p , e)"
   ]
  },
  {
   "cell_type": "code",
   "execution_count": null,
   "id": "2693e744",
   "metadata": {},
   "outputs": [],
   "source": []
  }
 ],
 "metadata": {
  "kernelspec": {
   "display_name": "Python 3",
   "language": "python",
   "name": "python3"
  },
  "language_info": {
   "codemirror_mode": {
    "name": "ipython",
    "version": 3
   },
   "file_extension": ".py",
   "mimetype": "text/x-python",
   "name": "python",
   "nbconvert_exporter": "python",
   "pygments_lexer": "ipython3",
   "version": "3.8.8"
  }
 },
 "nbformat": 4,
 "nbformat_minor": 5
}
