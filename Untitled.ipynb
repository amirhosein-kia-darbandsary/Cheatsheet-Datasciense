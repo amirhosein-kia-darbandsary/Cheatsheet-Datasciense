{
 "cells": [
  {
   "cell_type": "code",
   "execution_count": 3,
   "id": "34174819",
   "metadata": {},
   "outputs": [],
   "source": [
    "import pandas as pd\n",
    "import numpy as np \n",
    "import seaborn as sns \n",
    "from matplotlib import pyplot as plt \n",
    "from scipy import stats "
   ]
  },
  {
   "cell_type": "code",
   "execution_count": 4,
   "id": "4e117487",
   "metadata": {},
   "outputs": [],
   "source": [
    "A = np.array([23, 34, 32 , 15,45 , 94 , 34  , 54 , 34 , 10 ])"
   ]
  },
  {
   "cell_type": "code",
   "execution_count": 5,
   "id": "dfb3e5b9",
   "metadata": {},
   "outputs": [],
   "source": [
    "B = np.array([23 , 12 , 43 , 23 , 85 , 13 , 31 , 54 , 34 ,20])"
   ]
  },
  {
   "cell_type": "code",
   "execution_count": 9,
   "id": "7d94c83a",
   "metadata": {},
   "outputs": [],
   "source": [
    "A_B = A.mean() - B.mean()"
   ]
  },
  {
   "cell_type": "code",
   "execution_count": 45,
   "id": "93a1ab9a",
   "metadata": {},
   "outputs": [
    {
     "name": "stdout",
     "output_type": "stream",
     "text": [
      "[[ 0.  0.  0.  0.  0.  0.  0.  0.  0.  0.  1.  1.  1.  1.  1.  1.  1.  1.\n",
      "   1.  1.]\n",
      " [23. 34. 32. 15. 45. 94. 34. 54. 34. 10. 23. 12. 43. 23. 85. 13. 31. 54.\n",
      "  34. 20.]]\n"
     ]
    }
   ],
   "source": [
    "Arr = np.array(\n",
    "[\n",
    "    np.append(np.zeros(len(A)) , np.ones(len(B))),\n",
    "    np.append(A , B)\n",
    "]\n",
    ")\n",
    "print(Arr)"
   ]
  },
  {
   "cell_type": "code",
   "execution_count": 46,
   "id": "ae726b51",
   "metadata": {},
   "outputs": [
    {
     "name": "stdout",
     "output_type": "stream",
     "text": [
      "[[ 0. 34.]\n",
      " [ 1. 20.]\n",
      " [ 0. 32.]\n",
      " [ 1. 23.]\n",
      " [ 0. 10.]\n",
      " [ 0. 15.]\n",
      " [ 0. 34.]\n",
      " [ 1. 43.]\n",
      " [ 0. 54.]\n",
      " [ 1. 12.]\n",
      " [ 1. 54.]\n",
      " [ 1. 85.]\n",
      " [ 1. 34.]\n",
      " [ 1. 13.]\n",
      " [ 1. 23.]\n",
      " [ 1. 31.]\n",
      " [ 0. 23.]\n",
      " [ 0. 45.]\n",
      " [ 0. 34.]\n",
      " [ 0. 94.]]\n"
     ]
    }
   ],
   "source": [
    "arr_T = Arr.T\n",
    "np.random.shuffle(arr_T)\n",
    "print(arr_T)"
   ]
  },
  {
   "cell_type": "code",
   "execution_count": 47,
   "id": "28f14867",
   "metadata": {},
   "outputs": [
    {
     "data": {
      "text/plain": [
       "20"
      ]
     },
     "execution_count": 47,
     "metadata": {},
     "output_type": "execute_result"
    }
   ],
   "source": [
    "Test_Data = np.random.randint(0 , 2 , len(arr_T))\n",
    "len(Test_Data)"
   ]
  },
  {
   "cell_type": "code",
   "execution_count": 55,
   "id": "087a942c",
   "metadata": {},
   "outputs": [
    {
     "data": {
      "text/plain": [
       "array([[ 1., 34.],\n",
       "       [ 0., 20.],\n",
       "       [ 1., 32.],\n",
       "       [ 0., 23.],\n",
       "       [ 1., 10.],\n",
       "       [ 1., 15.],\n",
       "       [ 0., 34.],\n",
       "       [ 0., 43.],\n",
       "       [ 0., 54.],\n",
       "       [ 1., 12.],\n",
       "       [ 1., 54.],\n",
       "       [ 0., 85.],\n",
       "       [ 0., 34.],\n",
       "       [ 0., 13.],\n",
       "       [ 0., 23.],\n",
       "       [ 0., 31.],\n",
       "       [ 1., 23.],\n",
       "       [ 0., 45.],\n",
       "       [ 0., 34.],\n",
       "       [ 1., 94.]])"
      ]
     },
     "execution_count": 55,
     "metadata": {},
     "output_type": "execute_result"
    }
   ],
   "source": [
    " experiment = np.array([\n",
    "          Test_Data,\n",
    "          arr_T[:,1]\n",
    "         ])\n",
    "experiment.T"
   ]
  },
  {
   "cell_type": "code",
   "execution_count": null,
   "id": "7c1d9f46",
   "metadata": {},
   "outputs": [],
   "source": []
  },
  {
   "cell_type": "code",
   "execution_count": null,
   "id": "e2a32c26",
   "metadata": {},
   "outputs": [],
   "source": []
  }
 ],
 "metadata": {
  "kernelspec": {
   "display_name": "Python 3",
   "language": "python",
   "name": "python3"
  },
  "language_info": {
   "codemirror_mode": {
    "name": "ipython",
    "version": 3
   },
   "file_extension": ".py",
   "mimetype": "text/x-python",
   "name": "python",
   "nbconvert_exporter": "python",
   "pygments_lexer": "ipython3",
   "version": "3.8.8"
  }
 },
 "nbformat": 4,
 "nbformat_minor": 5
}
