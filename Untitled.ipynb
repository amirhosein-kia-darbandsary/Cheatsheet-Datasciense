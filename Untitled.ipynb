{
 "cells": [
  {
   "cell_type": "code",
   "execution_count": 22,
   "id": "4a9729c4",
   "metadata": {},
   "outputs": [],
   "source": [
    "import numpy as np \n",
    "import pandas as pd\n",
    "import seaborn as sns \n",
    "from matplotlib import pyplot as plt\n",
    "from sklearn import datasets\n",
    "sns.set_style('dark')"
   ]
  },
  {
   "cell_type": "code",
   "execution_count": 23,
   "id": "8fc5c27c",
   "metadata": {},
   "outputs": [
    {
     "data": {
      "text/plain": [
       "(1797, 64)"
      ]
     },
     "execution_count": 23,
     "metadata": {},
     "output_type": "execute_result"
    }
   ],
   "source": [
    "data = datasets.load_digits()\n",
    "X = data.images\n",
    "Y = data.target\n",
    "X = X.reshape(1797 , -1)\n",
    "X.shape"
   ]
  },
  {
   "cell_type": "code",
   "execution_count": 24,
   "id": "08bf7be0",
   "metadata": {},
   "outputs": [],
   "source": [
    "from sklearn.svm import SVC\n",
    "Svc = SVC()\n",
    "Svc.fit(X , Y)\n",
    "from sklearn import metrics"
   ]
  },
  {
   "cell_type": "code",
   "execution_count": 25,
   "id": "4a916c12",
   "metadata": {},
   "outputs": [],
   "source": [
    " p = Svc.predict(X[1000:])\n",
    " e = Y[1000:]"
   ]
  },
  {
   "cell_type": "code",
   "execution_count": 26,
   "id": "2693e744",
   "metadata": {},
   "outputs": [
    {
     "name": "stdout",
     "output_type": "stream",
     "text": [
      "              precision    recall  f1-score   support\n",
      "\n",
      "           0       1.00      1.00      1.00        79\n",
      "           1       1.00      0.99      0.99        81\n",
      "           2       1.00      1.00      1.00        77\n",
      "           3       1.00      0.99      0.99        80\n",
      "           4       1.00      1.00      1.00        83\n",
      "           5       1.00      0.99      0.99        83\n",
      "           6       1.00      1.00      1.00        80\n",
      "           7       1.00      1.00      1.00        80\n",
      "           8       0.99      1.00      0.99        75\n",
      "           9       0.98      1.00      0.99        79\n",
      "\n",
      "    accuracy                           1.00       797\n",
      "   macro avg       1.00      1.00      1.00       797\n",
      "weighted avg       1.00      1.00      1.00       797\n",
      "\n"
     ]
    }
   ],
   "source": [
    "print(metrics.classification_report(p , e ))"
   ]
  },
  {
   "cell_type": "code",
   "execution_count": null,
   "id": "7a3871fc",
   "metadata": {},
   "outputs": [],
   "source": []
  }
 ],
 "metadata": {
  "kernelspec": {
   "display_name": "Python 3",
   "language": "python",
   "name": "python3"
  },
  "language_info": {
   "codemirror_mode": {
    "name": "ipython",
    "version": 3
   },
   "file_extension": ".py",
   "mimetype": "text/x-python",
   "name": "python",
   "nbconvert_exporter": "python",
   "pygments_lexer": "ipython3",
   "version": "3.8.8"
  }
 },
 "nbformat": 4,
 "nbformat_minor": 5
}
